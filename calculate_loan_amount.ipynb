{
  "nbformat": 4,
  "nbformat_minor": 0,
  "metadata": {
    "colab": {
      "name": "calculate_loan_amount.ipynb",
      "provenance": [],
      "collapsed_sections": [
        "RZkDg5x6BiaM",
        "KPcYqZ-ZxQj4",
        "eDZy7x0yrEo9",
        "0FeRmtpK3UEb",
        "6EaRUWHN4QRO"
      ],
      "toc_visible": true
    },
    "kernelspec": {
      "display_name": "Python 3",
      "name": "python3"
    }
  },
  "cells": [
    {
      "cell_type": "markdown",
      "metadata": {
        "id": "Ymh1JjwWqdbj"
      },
      "source": [
        "# **Libraries**"
      ]
    },
    {
      "cell_type": "code",
      "metadata": {
        "id": "pPhklmVeALfc"
      },
      "source": [
        "import pandas as pd\n",
        "import numpy as np\n",
        "from numpy import nan\n",
        "import seaborn as sns\n",
        "from scipy import stats\n",
        "import matplotlib.pyplot as plt\n",
        "import matplotlib.gridspec as gridspec\n",
        "import matplotlib.style as style\n",
        "\n",
        "from xgboost import plot_importance, XGBRegressor\n",
        "from sklearn.model_selection import train_test_split\n",
        "from sklearn.linear_model import LinearRegression\n",
        "from sklearn.model_selection import RepeatedStratifiedKFold\n",
        "from sklearn.model_selection import cross_val_score\n",
        "from sklearn.ensemble import RandomForestRegressor, VotingClassifier\n",
        "from sklearn.linear_model import Lasso, Ridge\n",
        "from sklearn.model_selection import cross_val_score, KFold\n",
        "from sklearn.metrics import mean_squared_error\n",
        "from scipy.stats.stats import pearsonr\n",
        "import xgboost as xgb"
      ],
      "execution_count": 254,
      "outputs": []
    },
    {
      "cell_type": "markdown",
      "metadata": {
        "id": "DvrhvqqHqhob"
      },
      "source": [
        "# **Data Analysis**"
      ]
    },
    {
      "cell_type": "markdown",
      "metadata": {
        "id": "d0W1K-htA4bZ"
      },
      "source": [
        "### Load data"
      ]
    },
    {
      "cell_type": "code",
      "metadata": {
        "id": "exM7_piipyIa"
      },
      "source": [
        "df = pd.read_csv('/content/drive/My Drive/Assignments/Machstatz/trainingData.csv')"
      ],
      "execution_count": null,
      "outputs": []
    },
    {
      "cell_type": "markdown",
      "metadata": {
        "id": "mMXo3LbjWRgh"
      },
      "source": [
        "### Explore data and check some statistics\n"
      ]
    },
    {
      "cell_type": "code",
      "metadata": {
        "id": "WLu_hKXxqnyO",
        "outputId": "039ea9c4-f27e-44f5-c42f-49fc70bd5786",
        "colab": {
          "base_uri": "https://localhost:8080/",
          "height": 33
        }
      },
      "source": [
        "df.shape"
      ],
      "execution_count": null,
      "outputs": [
        {
          "output_type": "execute_result",
          "data": {
            "text/plain": [
              "(40000, 21)"
            ]
          },
          "metadata": {
            "tags": []
          },
          "execution_count": 6
        }
      ]
    },
    {
      "cell_type": "code",
      "metadata": {
        "id": "58NztPZ4qajn",
        "outputId": "d0cb9b88-ac63-4263-dd59-b576671437b4",
        "colab": {
          "base_uri": "https://localhost:8080/",
          "height": 131
        }
      },
      "source": [
        "df.columns"
      ],
      "execution_count": null,
      "outputs": [
        {
          "output_type": "execute_result",
          "data": {
            "text/plain": [
              "Index(['Id', 'city', 'age', 'sex', 'social_class', 'primary_business',\n",
              "       'secondary_business', 'annual_income', 'monthly_expenses',\n",
              "       'old_dependents', 'young_dependents', 'home_ownership', 'type_of_house',\n",
              "       'occupants_count', 'house_area', 'sanitary_availability',\n",
              "       'water_availabity', 'loan_purpose', 'loan_tenure', 'loan_installments',\n",
              "       'loan_amount'],\n",
              "      dtype='object')"
            ]
          },
          "metadata": {
            "tags": []
          },
          "execution_count": 7
        }
      ]
    },
    {
      "cell_type": "code",
      "metadata": {
        "id": "Hdw_00fQqIv0",
        "outputId": "9225f517-ccea-49fd-cf95-b1421180d799",
        "colab": {
          "base_uri": "https://localhost:8080/",
          "height": 211
        }
      },
      "source": [
        "df.head()"
      ],
      "execution_count": null,
      "outputs": [
        {
          "output_type": "execute_result",
          "data": {
            "text/html": [
              "<div>\n",
              "<style scoped>\n",
              "    .dataframe tbody tr th:only-of-type {\n",
              "        vertical-align: middle;\n",
              "    }\n",
              "\n",
              "    .dataframe tbody tr th {\n",
              "        vertical-align: top;\n",
              "    }\n",
              "\n",
              "    .dataframe thead th {\n",
              "        text-align: right;\n",
              "    }\n",
              "</style>\n",
              "<table border=\"1\" class=\"dataframe\">\n",
              "  <thead>\n",
              "    <tr style=\"text-align: right;\">\n",
              "      <th></th>\n",
              "      <th>Id</th>\n",
              "      <th>city</th>\n",
              "      <th>age</th>\n",
              "      <th>sex</th>\n",
              "      <th>social_class</th>\n",
              "      <th>primary_business</th>\n",
              "      <th>secondary_business</th>\n",
              "      <th>annual_income</th>\n",
              "      <th>monthly_expenses</th>\n",
              "      <th>old_dependents</th>\n",
              "      <th>young_dependents</th>\n",
              "      <th>home_ownership</th>\n",
              "      <th>type_of_house</th>\n",
              "      <th>occupants_count</th>\n",
              "      <th>house_area</th>\n",
              "      <th>sanitary_availability</th>\n",
              "      <th>water_availabity</th>\n",
              "      <th>loan_purpose</th>\n",
              "      <th>loan_tenure</th>\n",
              "      <th>loan_installments</th>\n",
              "      <th>loan_amount</th>\n",
              "    </tr>\n",
              "  </thead>\n",
              "  <tbody>\n",
              "    <tr>\n",
              "      <th>0</th>\n",
              "      <td>1</td>\n",
              "      <td>Dhanbad</td>\n",
              "      <td>22</td>\n",
              "      <td>F</td>\n",
              "      <td>Mochi</td>\n",
              "      <td>Tailoring</td>\n",
              "      <td>Others</td>\n",
              "      <td>36000.0</td>\n",
              "      <td>5000.0</td>\n",
              "      <td>0</td>\n",
              "      <td>2</td>\n",
              "      <td>1.0</td>\n",
              "      <td>R</td>\n",
              "      <td>4</td>\n",
              "      <td>70.0</td>\n",
              "      <td>1.0</td>\n",
              "      <td>0.5</td>\n",
              "      <td>Apparels</td>\n",
              "      <td>12</td>\n",
              "      <td>12</td>\n",
              "      <td>5000.0</td>\n",
              "    </tr>\n",
              "    <tr>\n",
              "      <th>1</th>\n",
              "      <td>2</td>\n",
              "      <td>Manjapra</td>\n",
              "      <td>21</td>\n",
              "      <td>F</td>\n",
              "      <td>OBC</td>\n",
              "      <td>Tailoring</td>\n",
              "      <td>none</td>\n",
              "      <td>94000.0</td>\n",
              "      <td>3600.0</td>\n",
              "      <td>1</td>\n",
              "      <td>1</td>\n",
              "      <td>1.0</td>\n",
              "      <td>T1</td>\n",
              "      <td>4</td>\n",
              "      <td>80.0</td>\n",
              "      <td>1.0</td>\n",
              "      <td>0.5</td>\n",
              "      <td>Apparels</td>\n",
              "      <td>12</td>\n",
              "      <td>50</td>\n",
              "      <td>7500.0</td>\n",
              "    </tr>\n",
              "    <tr>\n",
              "      <th>2</th>\n",
              "      <td>3</td>\n",
              "      <td>Dhanbad</td>\n",
              "      <td>24</td>\n",
              "      <td>M</td>\n",
              "      <td>Nai</td>\n",
              "      <td>Beauty salon</td>\n",
              "      <td>Others</td>\n",
              "      <td>48000.0</td>\n",
              "      <td>4000.0</td>\n",
              "      <td>0</td>\n",
              "      <td>2</td>\n",
              "      <td>1.0</td>\n",
              "      <td>T1</td>\n",
              "      <td>4</td>\n",
              "      <td>50.0</td>\n",
              "      <td>1.0</td>\n",
              "      <td>0.5</td>\n",
              "      <td>Beauty Salon</td>\n",
              "      <td>12</td>\n",
              "      <td>12</td>\n",
              "      <td>5000.0</td>\n",
              "    </tr>\n",
              "    <tr>\n",
              "      <th>3</th>\n",
              "      <td>4</td>\n",
              "      <td>NaN</td>\n",
              "      <td>26</td>\n",
              "      <td>F</td>\n",
              "      <td>OBC</td>\n",
              "      <td>Tailoring</td>\n",
              "      <td>none</td>\n",
              "      <td>7000.0</td>\n",
              "      <td>5000.0</td>\n",
              "      <td>0</td>\n",
              "      <td>2</td>\n",
              "      <td>1.0</td>\n",
              "      <td>T1</td>\n",
              "      <td>5</td>\n",
              "      <td>50.0</td>\n",
              "      <td>1.0</td>\n",
              "      <td>0.5</td>\n",
              "      <td>Apparels</td>\n",
              "      <td>12</td>\n",
              "      <td>50</td>\n",
              "      <td>7500.0</td>\n",
              "    </tr>\n",
              "    <tr>\n",
              "      <th>4</th>\n",
              "      <td>5</td>\n",
              "      <td>Nuapada</td>\n",
              "      <td>23</td>\n",
              "      <td>F</td>\n",
              "      <td>OBC</td>\n",
              "      <td>General store</td>\n",
              "      <td>Agriculture</td>\n",
              "      <td>36000.0</td>\n",
              "      <td>3500.0</td>\n",
              "      <td>0</td>\n",
              "      <td>0</td>\n",
              "      <td>1.0</td>\n",
              "      <td>T1</td>\n",
              "      <td>1</td>\n",
              "      <td>112.0</td>\n",
              "      <td>1.0</td>\n",
              "      <td>0.5</td>\n",
              "      <td>Retail Store</td>\n",
              "      <td>12</td>\n",
              "      <td>12</td>\n",
              "      <td>5000.0</td>\n",
              "    </tr>\n",
              "  </tbody>\n",
              "</table>\n",
              "</div>"
            ],
            "text/plain": [
              "   Id      city  age  ... loan_tenure loan_installments loan_amount\n",
              "0   1   Dhanbad   22  ...          12                12      5000.0\n",
              "1   2  Manjapra   21  ...          12                50      7500.0\n",
              "2   3   Dhanbad   24  ...          12                12      5000.0\n",
              "3   4       NaN   26  ...          12                50      7500.0\n",
              "4   5   Nuapada   23  ...          12                12      5000.0\n",
              "\n",
              "[5 rows x 21 columns]"
            ]
          },
          "metadata": {
            "tags": []
          },
          "execution_count": 8
        }
      ]
    },
    {
      "cell_type": "code",
      "metadata": {
        "id": "bJnJamVTSE3L",
        "outputId": "80e769e3-67b3-4755-9616-28ed571635b6",
        "colab": {
          "base_uri": "https://localhost:8080/",
          "height": 33
        }
      },
      "source": [
        "set(df.dtypes.tolist())"
      ],
      "execution_count": null,
      "outputs": [
        {
          "output_type": "execute_result",
          "data": {
            "text/plain": [
              "{dtype('int64'), dtype('float64'), dtype('O')}"
            ]
          },
          "metadata": {
            "tags": []
          },
          "execution_count": 10
        }
      ]
    },
    {
      "cell_type": "code",
      "metadata": {
        "id": "3rTJ1KzGq0bJ",
        "outputId": "971a290c-be61-4adc-a0b1-9e9857c53aed",
        "colab": {
          "base_uri": "https://localhost:8080/",
          "height": 472
        }
      },
      "source": [
        "df.info()"
      ],
      "execution_count": null,
      "outputs": [
        {
          "output_type": "stream",
          "text": [
            "<class 'pandas.core.frame.DataFrame'>\n",
            "RangeIndex: 40000 entries, 0 to 39999\n",
            "Data columns (total 21 columns):\n",
            " #   Column                 Non-Null Count  Dtype  \n",
            "---  ------                 --------------  -----  \n",
            " 0   Id                     40000 non-null  int64  \n",
            " 1   city                   38136 non-null  object \n",
            " 2   age                    40000 non-null  int64  \n",
            " 3   sex                    40000 non-null  object \n",
            " 4   social_class           34745 non-null  object \n",
            " 5   primary_business       39974 non-null  object \n",
            " 6   secondary_business     34759 non-null  object \n",
            " 7   annual_income          40000 non-null  float64\n",
            " 8   monthly_expenses       39880 non-null  float64\n",
            " 9   old_dependents         40000 non-null  int64  \n",
            " 10  young_dependents       40000 non-null  int64  \n",
            " 11  home_ownership         39621 non-null  float64\n",
            " 12  type_of_house          39306 non-null  object \n",
            " 13  occupants_count        40000 non-null  int64  \n",
            " 14  house_area             40000 non-null  float64\n",
            " 15  sanitary_availability  39792 non-null  float64\n",
            " 16  water_availabity       34747 non-null  float64\n",
            " 17  loan_purpose           39974 non-null  object \n",
            " 18  loan_tenure            40000 non-null  int64  \n",
            " 19  loan_installments      40000 non-null  int64  \n",
            " 20  loan_amount            40000 non-null  float64\n",
            "dtypes: float64(7), int64(7), object(7)\n",
            "memory usage: 6.4+ MB\n"
          ],
          "name": "stdout"
        }
      ]
    },
    {
      "cell_type": "code",
      "metadata": {
        "id": "JTL19j41q9ay",
        "outputId": "23a5ee65-2cda-44ad-b4f1-bee24910af53",
        "colab": {
          "base_uri": "https://localhost:8080/",
          "height": 450
        }
      },
      "source": [
        "df.describe().T"
      ],
      "execution_count": null,
      "outputs": [
        {
          "output_type": "execute_result",
          "data": {
            "text/html": [
              "<div>\n",
              "<style scoped>\n",
              "    .dataframe tbody tr th:only-of-type {\n",
              "        vertical-align: middle;\n",
              "    }\n",
              "\n",
              "    .dataframe tbody tr th {\n",
              "        vertical-align: top;\n",
              "    }\n",
              "\n",
              "    .dataframe thead th {\n",
              "        text-align: right;\n",
              "    }\n",
              "</style>\n",
              "<table border=\"1\" class=\"dataframe\">\n",
              "  <thead>\n",
              "    <tr style=\"text-align: right;\">\n",
              "      <th></th>\n",
              "      <th>count</th>\n",
              "      <th>mean</th>\n",
              "      <th>std</th>\n",
              "      <th>min</th>\n",
              "      <th>25%</th>\n",
              "      <th>50%</th>\n",
              "      <th>75%</th>\n",
              "      <th>max</th>\n",
              "    </tr>\n",
              "  </thead>\n",
              "  <tbody>\n",
              "    <tr>\n",
              "      <th>Id</th>\n",
              "      <td>40000.0</td>\n",
              "      <td>20000.500000</td>\n",
              "      <td>11547.149720</td>\n",
              "      <td>1.0</td>\n",
              "      <td>10000.75</td>\n",
              "      <td>20000.5</td>\n",
              "      <td>30000.25</td>\n",
              "      <td>40000.0</td>\n",
              "    </tr>\n",
              "    <tr>\n",
              "      <th>age</th>\n",
              "      <td>40000.0</td>\n",
              "      <td>55.159900</td>\n",
              "      <td>3830.355660</td>\n",
              "      <td>2.0</td>\n",
              "      <td>29.00</td>\n",
              "      <td>35.0</td>\n",
              "      <td>42.00</td>\n",
              "      <td>766105.0</td>\n",
              "    </tr>\n",
              "    <tr>\n",
              "      <th>annual_income</th>\n",
              "      <td>40000.0</td>\n",
              "      <td>37640.214425</td>\n",
              "      <td>28739.116481</td>\n",
              "      <td>0.0</td>\n",
              "      <td>14400.00</td>\n",
              "      <td>36000.0</td>\n",
              "      <td>56000.00</td>\n",
              "      <td>1200000.0</td>\n",
              "    </tr>\n",
              "    <tr>\n",
              "      <th>monthly_expenses</th>\n",
              "      <td>39880.0</td>\n",
              "      <td>3810.875401</td>\n",
              "      <td>4592.958009</td>\n",
              "      <td>2.0</td>\n",
              "      <td>2500.00</td>\n",
              "      <td>3500.0</td>\n",
              "      <td>4000.00</td>\n",
              "      <td>240000.0</td>\n",
              "    </tr>\n",
              "    <tr>\n",
              "      <th>old_dependents</th>\n",
              "      <td>40000.0</td>\n",
              "      <td>0.044900</td>\n",
              "      <td>0.222003</td>\n",
              "      <td>0.0</td>\n",
              "      <td>0.00</td>\n",
              "      <td>0.0</td>\n",
              "      <td>0.00</td>\n",
              "      <td>3.0</td>\n",
              "    </tr>\n",
              "    <tr>\n",
              "      <th>young_dependents</th>\n",
              "      <td>40000.0</td>\n",
              "      <td>1.137100</td>\n",
              "      <td>1.073840</td>\n",
              "      <td>0.0</td>\n",
              "      <td>0.00</td>\n",
              "      <td>1.0</td>\n",
              "      <td>2.00</td>\n",
              "      <td>7.0</td>\n",
              "    </tr>\n",
              "    <tr>\n",
              "      <th>home_ownership</th>\n",
              "      <td>39621.0</td>\n",
              "      <td>0.972489</td>\n",
              "      <td>0.163568</td>\n",
              "      <td>0.0</td>\n",
              "      <td>1.00</td>\n",
              "      <td>1.0</td>\n",
              "      <td>1.00</td>\n",
              "      <td>1.0</td>\n",
              "    </tr>\n",
              "    <tr>\n",
              "      <th>occupants_count</th>\n",
              "      <td>40000.0</td>\n",
              "      <td>26.641000</td>\n",
              "      <td>4749.995485</td>\n",
              "      <td>0.0</td>\n",
              "      <td>2.00</td>\n",
              "      <td>3.0</td>\n",
              "      <td>4.00</td>\n",
              "      <td>950000.0</td>\n",
              "    </tr>\n",
              "    <tr>\n",
              "      <th>house_area</th>\n",
              "      <td>40000.0</td>\n",
              "      <td>552.804750</td>\n",
              "      <td>4596.921905</td>\n",
              "      <td>0.0</td>\n",
              "      <td>200.00</td>\n",
              "      <td>400.0</td>\n",
              "      <td>600.00</td>\n",
              "      <td>700000.0</td>\n",
              "    </tr>\n",
              "    <tr>\n",
              "      <th>sanitary_availability</th>\n",
              "      <td>39792.0</td>\n",
              "      <td>0.686369</td>\n",
              "      <td>0.464028</td>\n",
              "      <td>-1.0</td>\n",
              "      <td>0.00</td>\n",
              "      <td>1.0</td>\n",
              "      <td>1.00</td>\n",
              "      <td>1.0</td>\n",
              "    </tr>\n",
              "    <tr>\n",
              "      <th>water_availabity</th>\n",
              "      <td>34747.0</td>\n",
              "      <td>0.753216</td>\n",
              "      <td>0.255337</td>\n",
              "      <td>-1.0</td>\n",
              "      <td>0.50</td>\n",
              "      <td>1.0</td>\n",
              "      <td>1.00</td>\n",
              "      <td>1.0</td>\n",
              "    </tr>\n",
              "    <tr>\n",
              "      <th>loan_tenure</th>\n",
              "      <td>40000.0</td>\n",
              "      <td>12.032225</td>\n",
              "      <td>1.367473</td>\n",
              "      <td>3.0</td>\n",
              "      <td>12.00</td>\n",
              "      <td>12.0</td>\n",
              "      <td>12.00</td>\n",
              "      <td>84.0</td>\n",
              "    </tr>\n",
              "    <tr>\n",
              "      <th>loan_installments</th>\n",
              "      <td>40000.0</td>\n",
              "      <td>21.761175</td>\n",
              "      <td>16.682458</td>\n",
              "      <td>0.0</td>\n",
              "      <td>12.00</td>\n",
              "      <td>12.0</td>\n",
              "      <td>50.00</td>\n",
              "      <td>84.0</td>\n",
              "    </tr>\n",
              "    <tr>\n",
              "      <th>loan_amount</th>\n",
              "      <td>40000.0</td>\n",
              "      <td>8412.592500</td>\n",
              "      <td>13596.938096</td>\n",
              "      <td>100.0</td>\n",
              "      <td>5000.00</td>\n",
              "      <td>8000.0</td>\n",
              "      <td>10000.00</td>\n",
              "      <td>1343000.0</td>\n",
              "    </tr>\n",
              "  </tbody>\n",
              "</table>\n",
              "</div>"
            ],
            "text/plain": [
              "                         count          mean  ...       75%        max\n",
              "Id                     40000.0  20000.500000  ...  30000.25    40000.0\n",
              "age                    40000.0     55.159900  ...     42.00   766105.0\n",
              "annual_income          40000.0  37640.214425  ...  56000.00  1200000.0\n",
              "monthly_expenses       39880.0   3810.875401  ...   4000.00   240000.0\n",
              "old_dependents         40000.0      0.044900  ...      0.00        3.0\n",
              "young_dependents       40000.0      1.137100  ...      2.00        7.0\n",
              "home_ownership         39621.0      0.972489  ...      1.00        1.0\n",
              "occupants_count        40000.0     26.641000  ...      4.00   950000.0\n",
              "house_area             40000.0    552.804750  ...    600.00   700000.0\n",
              "sanitary_availability  39792.0      0.686369  ...      1.00        1.0\n",
              "water_availabity       34747.0      0.753216  ...      1.00        1.0\n",
              "loan_tenure            40000.0     12.032225  ...     12.00       84.0\n",
              "loan_installments      40000.0     21.761175  ...     50.00       84.0\n",
              "loan_amount            40000.0   8412.592500  ...  10000.00  1343000.0\n",
              "\n",
              "[14 rows x 8 columns]"
            ]
          },
          "metadata": {
            "tags": []
          },
          "execution_count": 12
        }
      ]
    },
    {
      "cell_type": "markdown",
      "metadata": {
        "id": "NO3nQmpWo3ES"
      },
      "source": [
        "### Drop the column - *Id* "
      ]
    },
    {
      "cell_type": "code",
      "metadata": {
        "id": "eN8JvL-gozfN"
      },
      "source": [
        "df.drop('Id', axis=1, inplace=True)"
      ],
      "execution_count": null,
      "outputs": []
    },
    {
      "cell_type": "code",
      "metadata": {
        "id": "IsgwhRum8RJB"
      },
      "source": [
        "df_columns = df.columns"
      ],
      "execution_count": null,
      "outputs": []
    },
    {
      "cell_type": "markdown",
      "metadata": {
        "id": "Q8OukUXtSXc9"
      },
      "source": [
        "### Find out the relationships among the target variable and other predictor variables."
      ]
    },
    {
      "cell_type": "code",
      "metadata": {
        "id": "VtRguFS4SU-N",
        "outputId": "71d626b9-af2f-42c2-bdc4-daaf96cab55f",
        "colab": {
          "base_uri": "https://localhost:8080/",
          "height": 228
        }
      },
      "source": [
        "(df.corr())[\"loan_amount\"].sort_values(ascending = False)[1:]"
      ],
      "execution_count": null,
      "outputs": [
        {
          "output_type": "execute_result",
          "data": {
            "text/plain": [
              "annual_income            0.085632\n",
              "loan_tenure              0.082230\n",
              "water_availabity         0.079910\n",
              "sanitary_availability    0.042241\n",
              "monthly_expenses         0.019569\n",
              "loan_installments        0.015981\n",
              "old_dependents           0.006997\n",
              "young_dependents         0.006200\n",
              "house_area               0.002874\n",
              "home_ownership           0.001939\n",
              "occupants_count         -0.000125\n",
              "age                     -0.001969\n",
              "Name: loan_amount, dtype: float64"
            ]
          },
          "metadata": {
            "tags": []
          },
          "execution_count": 19
        }
      ]
    },
    {
      "cell_type": "markdown",
      "metadata": {
        "id": "OA9vY-hVyT-E"
      },
      "source": [
        "From the above results, we can conclude that target variable has no strong correlation with any feature (independent variable)\n",
        "\n",
        "(i.e., abs(corr) >= 0.5)"
      ]
    },
    {
      "cell_type": "markdown",
      "metadata": {
        "id": "O6duJfQkHq5P"
      },
      "source": [
        "### Check if missing value exist in any column"
      ]
    },
    {
      "cell_type": "code",
      "metadata": {
        "id": "MgUQI89csFtz",
        "outputId": "fa13b7b8-e29a-4e54-c14b-d657d57c66e1",
        "colab": {
          "base_uri": "https://localhost:8080/",
          "height": 33
        }
      },
      "source": [
        "df.isnull().values.any()"
      ],
      "execution_count": null,
      "outputs": [
        {
          "output_type": "execute_result",
          "data": {
            "text/plain": [
              "True"
            ]
          },
          "metadata": {
            "tags": []
          },
          "execution_count": 20
        }
      ]
    },
    {
      "cell_type": "markdown",
      "metadata": {
        "id": "RZkDg5x6BiaM"
      },
      "source": [
        "### Check missing values in each column"
      ]
    },
    {
      "cell_type": "code",
      "metadata": {
        "id": "x7PrmeDt90fp"
      },
      "source": [
        "total = df.isnull().sum().sort_values(ascending=False)\n",
        "percent = (df.isnull().sum()/df.isnull().count()).sort_values(ascending=False)\n",
        "missing_data = pd.concat([total, percent], axis=1, keys=['Total', 'Percent'])"
      ],
      "execution_count": null,
      "outputs": []
    },
    {
      "cell_type": "code",
      "metadata": {
        "id": "1-KefXvi99Ea",
        "outputId": "1a21e43f-ba1d-4b88-c6da-da57f0ed1218",
        "colab": {
          "base_uri": "https://localhost:8080/",
          "height": 622
        }
      },
      "source": [
        "missing_data"
      ],
      "execution_count": null,
      "outputs": [
        {
          "output_type": "execute_result",
          "data": {
            "text/html": [
              "<div>\n",
              "<style scoped>\n",
              "    .dataframe tbody tr th:only-of-type {\n",
              "        vertical-align: middle;\n",
              "    }\n",
              "\n",
              "    .dataframe tbody tr th {\n",
              "        vertical-align: top;\n",
              "    }\n",
              "\n",
              "    .dataframe thead th {\n",
              "        text-align: right;\n",
              "    }\n",
              "</style>\n",
              "<table border=\"1\" class=\"dataframe\">\n",
              "  <thead>\n",
              "    <tr style=\"text-align: right;\">\n",
              "      <th></th>\n",
              "      <th>Total</th>\n",
              "      <th>Percent</th>\n",
              "    </tr>\n",
              "  </thead>\n",
              "  <tbody>\n",
              "    <tr>\n",
              "      <th>social_class</th>\n",
              "      <td>5255</td>\n",
              "      <td>0.131375</td>\n",
              "    </tr>\n",
              "    <tr>\n",
              "      <th>water_availabity</th>\n",
              "      <td>5253</td>\n",
              "      <td>0.131325</td>\n",
              "    </tr>\n",
              "    <tr>\n",
              "      <th>secondary_business</th>\n",
              "      <td>5241</td>\n",
              "      <td>0.131025</td>\n",
              "    </tr>\n",
              "    <tr>\n",
              "      <th>city</th>\n",
              "      <td>1864</td>\n",
              "      <td>0.046600</td>\n",
              "    </tr>\n",
              "    <tr>\n",
              "      <th>type_of_house</th>\n",
              "      <td>694</td>\n",
              "      <td>0.017350</td>\n",
              "    </tr>\n",
              "    <tr>\n",
              "      <th>home_ownership</th>\n",
              "      <td>379</td>\n",
              "      <td>0.009475</td>\n",
              "    </tr>\n",
              "    <tr>\n",
              "      <th>sanitary_availability</th>\n",
              "      <td>208</td>\n",
              "      <td>0.005200</td>\n",
              "    </tr>\n",
              "    <tr>\n",
              "      <th>monthly_expenses</th>\n",
              "      <td>120</td>\n",
              "      <td>0.003000</td>\n",
              "    </tr>\n",
              "    <tr>\n",
              "      <th>loan_purpose</th>\n",
              "      <td>26</td>\n",
              "      <td>0.000650</td>\n",
              "    </tr>\n",
              "    <tr>\n",
              "      <th>primary_business</th>\n",
              "      <td>26</td>\n",
              "      <td>0.000650</td>\n",
              "    </tr>\n",
              "    <tr>\n",
              "      <th>annual_income</th>\n",
              "      <td>0</td>\n",
              "      <td>0.000000</td>\n",
              "    </tr>\n",
              "    <tr>\n",
              "      <th>age</th>\n",
              "      <td>0</td>\n",
              "      <td>0.000000</td>\n",
              "    </tr>\n",
              "    <tr>\n",
              "      <th>sex</th>\n",
              "      <td>0</td>\n",
              "      <td>0.000000</td>\n",
              "    </tr>\n",
              "    <tr>\n",
              "      <th>loan_amount</th>\n",
              "      <td>0</td>\n",
              "      <td>0.000000</td>\n",
              "    </tr>\n",
              "    <tr>\n",
              "      <th>old_dependents</th>\n",
              "      <td>0</td>\n",
              "      <td>0.000000</td>\n",
              "    </tr>\n",
              "    <tr>\n",
              "      <th>loan_installments</th>\n",
              "      <td>0</td>\n",
              "      <td>0.000000</td>\n",
              "    </tr>\n",
              "    <tr>\n",
              "      <th>occupants_count</th>\n",
              "      <td>0</td>\n",
              "      <td>0.000000</td>\n",
              "    </tr>\n",
              "    <tr>\n",
              "      <th>house_area</th>\n",
              "      <td>0</td>\n",
              "      <td>0.000000</td>\n",
              "    </tr>\n",
              "    <tr>\n",
              "      <th>loan_tenure</th>\n",
              "      <td>0</td>\n",
              "      <td>0.000000</td>\n",
              "    </tr>\n",
              "    <tr>\n",
              "      <th>young_dependents</th>\n",
              "      <td>0</td>\n",
              "      <td>0.000000</td>\n",
              "    </tr>\n",
              "  </tbody>\n",
              "</table>\n",
              "</div>"
            ],
            "text/plain": [
              "                       Total   Percent\n",
              "social_class            5255  0.131375\n",
              "water_availabity        5253  0.131325\n",
              "secondary_business      5241  0.131025\n",
              "city                    1864  0.046600\n",
              "type_of_house            694  0.017350\n",
              "home_ownership           379  0.009475\n",
              "sanitary_availability    208  0.005200\n",
              "monthly_expenses         120  0.003000\n",
              "loan_purpose              26  0.000650\n",
              "primary_business          26  0.000650\n",
              "annual_income              0  0.000000\n",
              "age                        0  0.000000\n",
              "sex                        0  0.000000\n",
              "loan_amount                0  0.000000\n",
              "old_dependents             0  0.000000\n",
              "loan_installments          0  0.000000\n",
              "occupants_count            0  0.000000\n",
              "house_area                 0  0.000000\n",
              "loan_tenure                0  0.000000\n",
              "young_dependents           0  0.000000"
            ]
          },
          "metadata": {
            "tags": []
          },
          "execution_count": 22
        }
      ]
    },
    {
      "cell_type": "markdown",
      "metadata": {
        "id": "21BWhhDABNgE"
      },
      "source": [
        "### Remove Id and the features with 30% or greater NaN values."
      ]
    },
    {
      "cell_type": "code",
      "metadata": {
        "id": "lG2NkhZG9Yk9",
        "outputId": "4911e99b-71e1-4345-8350-ade2ef975916",
        "colab": {
          "base_uri": "https://localhost:8080/",
          "height": 33
        }
      },
      "source": [
        "# df.count() does not include NaN values\n",
        "new_df = df[[column for column in df if df[column].count() / len(df) >= 0.3]]\n",
        "\n",
        "print(\"List of dropped columns:\", end=\" \")\n",
        "for c in df.columns:\n",
        "    if c not in new_df.columns:\n",
        "        print(c, end=\", \")\n",
        "\n",
        "df = new_df"
      ],
      "execution_count": null,
      "outputs": [
        {
          "output_type": "stream",
          "text": [
            "List of dropped columns: "
          ],
          "name": "stdout"
        }
      ]
    },
    {
      "cell_type": "markdown",
      "metadata": {
        "id": "bUkkjSxK03Z1"
      },
      "source": [
        "### Create new dataframe for training"
      ]
    },
    {
      "cell_type": "code",
      "metadata": {
        "id": "US3sFOwAwdQP"
      },
      "source": [
        "final_df = df.copy()"
      ],
      "execution_count": 201,
      "outputs": []
    },
    {
      "cell_type": "markdown",
      "metadata": {
        "id": "I_1VCuMiwoqA"
      },
      "source": [
        "### Extract categorical column data"
      ]
    },
    {
      "cell_type": "code",
      "metadata": {
        "id": "GwDQmlYe_-fk"
      },
      "source": [
        "num_df = df.select_dtypes(include = ['float64', 'int64'])"
      ],
      "execution_count": 202,
      "outputs": []
    },
    {
      "cell_type": "code",
      "metadata": {
        "id": "SOqaesfmEJDp"
      },
      "source": [
        "num_df_columns = num_df.columns"
      ],
      "execution_count": 203,
      "outputs": []
    },
    {
      "cell_type": "code",
      "metadata": {
        "id": "AjsKeSzTE7Fs",
        "outputId": "1ecdcb90-ac8e-4dfe-e446-245a68453c58",
        "colab": {
          "base_uri": "https://localhost:8080/",
          "height": 131
        }
      },
      "source": [
        "print(num_df_columns, '\\n\\n', len(num_df_columns))"
      ],
      "execution_count": 204,
      "outputs": [
        {
          "output_type": "stream",
          "text": [
            "Index(['age', 'annual_income', 'monthly_expenses', 'old_dependents',\n",
            "       'young_dependents', 'home_ownership', 'occupants_count', 'house_area',\n",
            "       'sanitary_availability', 'water_availabity', 'loan_tenure',\n",
            "       'loan_installments', 'loan_amount'],\n",
            "      dtype='object') \n",
            "\n",
            " 13\n"
          ],
          "name": "stdout"
        }
      ]
    },
    {
      "cell_type": "code",
      "metadata": {
        "id": "EjjePIH1zpry"
      },
      "source": [
        "categorical_list = [column for column in df_columns if column not in num_df_columns]"
      ],
      "execution_count": 205,
      "outputs": []
    },
    {
      "cell_type": "code",
      "metadata": {
        "id": "lhlEMaEIpcyV",
        "outputId": "9d5b2bcc-f8e3-4f72-9bce-c092d3f8d019",
        "colab": {
          "base_uri": "https://localhost:8080/",
          "height": 66
        }
      },
      "source": [
        "print(categorical_list, '\\n\\n', len(categorical_list))"
      ],
      "execution_count": 206,
      "outputs": [
        {
          "output_type": "stream",
          "text": [
            "['city', 'sex', 'social_class', 'primary_business', 'secondary_business', 'type_of_house', 'loan_purpose'] \n",
            "\n",
            " 7\n"
          ],
          "name": "stdout"
        }
      ]
    },
    {
      "cell_type": "code",
      "metadata": {
        "id": "zgtCGGxsTOaU"
      },
      "source": [
        "categorical_df = df[categorical_list].copy()"
      ],
      "execution_count": 207,
      "outputs": []
    },
    {
      "cell_type": "code",
      "metadata": {
        "id": "dCI0OLy0Udu0",
        "outputId": "d5b6310e-5c49-443c-ac11-00b02e51a38d",
        "colab": {
          "base_uri": "https://localhost:8080/",
          "height": 191
        }
      },
      "source": [
        "categorical_df.head()"
      ],
      "execution_count": 208,
      "outputs": [
        {
          "output_type": "execute_result",
          "data": {
            "text/html": [
              "<div>\n",
              "<style scoped>\n",
              "    .dataframe tbody tr th:only-of-type {\n",
              "        vertical-align: middle;\n",
              "    }\n",
              "\n",
              "    .dataframe tbody tr th {\n",
              "        vertical-align: top;\n",
              "    }\n",
              "\n",
              "    .dataframe thead th {\n",
              "        text-align: right;\n",
              "    }\n",
              "</style>\n",
              "<table border=\"1\" class=\"dataframe\">\n",
              "  <thead>\n",
              "    <tr style=\"text-align: right;\">\n",
              "      <th></th>\n",
              "      <th>city</th>\n",
              "      <th>sex</th>\n",
              "      <th>social_class</th>\n",
              "      <th>primary_business</th>\n",
              "      <th>secondary_business</th>\n",
              "      <th>type_of_house</th>\n",
              "      <th>loan_purpose</th>\n",
              "    </tr>\n",
              "  </thead>\n",
              "  <tbody>\n",
              "    <tr>\n",
              "      <th>0</th>\n",
              "      <td>Dhanbad</td>\n",
              "      <td>F</td>\n",
              "      <td>Mochi</td>\n",
              "      <td>Tailoring</td>\n",
              "      <td>Others</td>\n",
              "      <td>R</td>\n",
              "      <td>Apparels</td>\n",
              "    </tr>\n",
              "    <tr>\n",
              "      <th>1</th>\n",
              "      <td>Manjapra</td>\n",
              "      <td>F</td>\n",
              "      <td>OBC</td>\n",
              "      <td>Tailoring</td>\n",
              "      <td>none</td>\n",
              "      <td>T1</td>\n",
              "      <td>Apparels</td>\n",
              "    </tr>\n",
              "    <tr>\n",
              "      <th>2</th>\n",
              "      <td>Dhanbad</td>\n",
              "      <td>M</td>\n",
              "      <td>Nai</td>\n",
              "      <td>Beauty salon</td>\n",
              "      <td>Others</td>\n",
              "      <td>T1</td>\n",
              "      <td>Beauty Salon</td>\n",
              "    </tr>\n",
              "    <tr>\n",
              "      <th>3</th>\n",
              "      <td>NaN</td>\n",
              "      <td>F</td>\n",
              "      <td>OBC</td>\n",
              "      <td>Tailoring</td>\n",
              "      <td>none</td>\n",
              "      <td>T1</td>\n",
              "      <td>Apparels</td>\n",
              "    </tr>\n",
              "    <tr>\n",
              "      <th>4</th>\n",
              "      <td>Nuapada</td>\n",
              "      <td>F</td>\n",
              "      <td>OBC</td>\n",
              "      <td>General store</td>\n",
              "      <td>Agriculture</td>\n",
              "      <td>T1</td>\n",
              "      <td>Retail Store</td>\n",
              "    </tr>\n",
              "  </tbody>\n",
              "</table>\n",
              "</div>"
            ],
            "text/plain": [
              "       city sex social_class  ... secondary_business type_of_house  loan_purpose\n",
              "0   Dhanbad   F        Mochi  ...             Others             R      Apparels\n",
              "1  Manjapra   F          OBC  ...               none            T1      Apparels\n",
              "2   Dhanbad   M          Nai  ...             Others            T1  Beauty Salon\n",
              "3       NaN   F          OBC  ...               none            T1      Apparels\n",
              "4   Nuapada   F          OBC  ...        Agriculture            T1  Retail Store\n",
              "\n",
              "[5 rows x 7 columns]"
            ]
          },
          "metadata": {
            "tags": []
          },
          "execution_count": 208
        }
      ]
    },
    {
      "cell_type": "markdown",
      "metadata": {
        "id": "Y0o0Yf4Aq66S"
      },
      "source": [
        "### Check for null value row in categorical_df"
      ]
    },
    {
      "cell_type": "code",
      "metadata": {
        "id": "hwo0xSlBlW18",
        "outputId": "ee23280b-d4c0-4831-cce2-35b205546501",
        "colab": {
          "base_uri": "https://localhost:8080/",
          "height": 33
        }
      },
      "source": [
        "categorical_df.isnull().values.any()"
      ],
      "execution_count": 209,
      "outputs": [
        {
          "output_type": "execute_result",
          "data": {
            "text/plain": [
              "True"
            ]
          },
          "metadata": {
            "tags": []
          },
          "execution_count": 209
        }
      ]
    },
    {
      "cell_type": "code",
      "metadata": {
        "id": "RWYS8J5cUt20"
      },
      "source": [
        "null_data = categorical_df[categorical_df.isnull().any(axis=1)]"
      ],
      "execution_count": 210,
      "outputs": []
    },
    {
      "cell_type": "code",
      "metadata": {
        "id": "Bc1vk9eEU2fZ",
        "outputId": "22af3824-28c8-4777-87c7-31006f4db8a0",
        "colab": {
          "base_uri": "https://localhost:8080/",
          "height": 33
        }
      },
      "source": [
        "null_data.shape[0]"
      ],
      "execution_count": 211,
      "outputs": [
        {
          "output_type": "execute_result",
          "data": {
            "text/plain": [
              "6935"
            ]
          },
          "metadata": {
            "tags": []
          },
          "execution_count": 211
        }
      ]
    },
    {
      "cell_type": "markdown",
      "metadata": {
        "id": "9okYE4FmsZwY"
      },
      "source": [
        "Now, for missing value in categorical data, let's explore 2 methods to handle it it in 2 ways:\n",
        "\n",
        "\n",
        "1.   Drop all the rows which contain missing value\n",
        "2.   Replace missing value with 0\n",
        "\n"
      ]
    },
    {
      "cell_type": "markdown",
      "metadata": {
        "id": "KPcYqZ-ZxQj4"
      },
      "source": [
        "### **1.** Drop the missing value"
      ]
    },
    {
      "cell_type": "code",
      "metadata": {
        "id": "hW2ClUZlw8xO"
      },
      "source": [
        "df_final_1 = final_df.dropna(subset=categorical_list)"
      ],
      "execution_count": 212,
      "outputs": []
    },
    {
      "cell_type": "code",
      "metadata": {
        "id": "f2TsPKGMyeWO",
        "outputId": "0dba3e67-ec9a-41d4-d129-b7b6e2857249",
        "colab": {
          "base_uri": "https://localhost:8080/",
          "height": 33
        }
      },
      "source": [
        "df_final_1.shape"
      ],
      "execution_count": 215,
      "outputs": [
        {
          "output_type": "execute_result",
          "data": {
            "text/plain": [
              "(33065, 20)"
            ]
          },
          "metadata": {
            "tags": []
          },
          "execution_count": 215
        }
      ]
    },
    {
      "cell_type": "markdown",
      "metadata": {
        "id": "eDZy7x0yrEo9"
      },
      "source": [
        "### Map categorical data to numerical value and"
      ]
    },
    {
      "cell_type": "code",
      "metadata": {
        "id": "WBcE0Q4MGCUB"
      },
      "source": [
        "def map_label(labels, dict_label):\n",
        "    mapped_labels = list()\n",
        "    for label in labels:\n",
        "        mapped_labels.append(dict_label[label])\n",
        "    return mapped_labels"
      ],
      "execution_count": 216,
      "outputs": []
    },
    {
      "cell_type": "code",
      "metadata": {
        "id": "eUsf3Ufa2LIa",
        "outputId": "da7b05b7-a8dc-49c0-ad0d-2b1936bd7fce",
        "colab": {
          "base_uri": "https://localhost:8080/",
          "height": 310
        }
      },
      "source": [
        "for column in categorical_list:\n",
        "  print(column)\n",
        "  label_list = df_final_1[column].unique()\n",
        "  label_value = [i for i in range(len(label_list))]\n",
        "  dict_label = dict(zip(label_list, label_value))\n",
        "  mapped_column = map_label(df_final_1[column], dict_label)\n",
        "  df_final_1.drop(column, axis = 1, inplace = True)\n",
        "  df_final_1[column] = mapped_column"
      ],
      "execution_count": 217,
      "outputs": [
        {
          "output_type": "stream",
          "text": [
            "city\n",
            "sex\n",
            "social_class\n",
            "primary_business\n",
            "secondary_business\n",
            "type_of_house\n",
            "loan_purpose\n"
          ],
          "name": "stdout"
        },
        {
          "output_type": "stream",
          "text": [
            "/usr/local/lib/python3.6/dist-packages/pandas/core/frame.py:4169: SettingWithCopyWarning: \n",
            "A value is trying to be set on a copy of a slice from a DataFrame\n",
            "\n",
            "See the caveats in the documentation: https://pandas.pydata.org/pandas-docs/stable/user_guide/indexing.html#returning-a-view-versus-a-copy\n",
            "  errors=errors,\n",
            "/usr/local/lib/python3.6/dist-packages/ipykernel_launcher.py:8: SettingWithCopyWarning: \n",
            "A value is trying to be set on a copy of a slice from a DataFrame.\n",
            "Try using .loc[row_indexer,col_indexer] = value instead\n",
            "\n",
            "See the caveats in the documentation: https://pandas.pydata.org/pandas-docs/stable/user_guide/indexing.html#returning-a-view-versus-a-copy\n",
            "  \n"
          ],
          "name": "stderr"
        }
      ]
    },
    {
      "cell_type": "code",
      "metadata": {
        "id": "NK8_PTHQ2LU2",
        "outputId": "138cc877-0dcf-474e-f9db-839beaa21429",
        "colab": {
          "base_uri": "https://localhost:8080/",
          "height": 211
        }
      },
      "source": [
        "df_final_1.head()"
      ],
      "execution_count": 218,
      "outputs": [
        {
          "output_type": "execute_result",
          "data": {
            "text/html": [
              "<div>\n",
              "<style scoped>\n",
              "    .dataframe tbody tr th:only-of-type {\n",
              "        vertical-align: middle;\n",
              "    }\n",
              "\n",
              "    .dataframe tbody tr th {\n",
              "        vertical-align: top;\n",
              "    }\n",
              "\n",
              "    .dataframe thead th {\n",
              "        text-align: right;\n",
              "    }\n",
              "</style>\n",
              "<table border=\"1\" class=\"dataframe\">\n",
              "  <thead>\n",
              "    <tr style=\"text-align: right;\">\n",
              "      <th></th>\n",
              "      <th>age</th>\n",
              "      <th>annual_income</th>\n",
              "      <th>monthly_expenses</th>\n",
              "      <th>old_dependents</th>\n",
              "      <th>young_dependents</th>\n",
              "      <th>home_ownership</th>\n",
              "      <th>occupants_count</th>\n",
              "      <th>house_area</th>\n",
              "      <th>sanitary_availability</th>\n",
              "      <th>water_availabity</th>\n",
              "      <th>loan_tenure</th>\n",
              "      <th>loan_installments</th>\n",
              "      <th>loan_amount</th>\n",
              "      <th>city</th>\n",
              "      <th>sex</th>\n",
              "      <th>social_class</th>\n",
              "      <th>primary_business</th>\n",
              "      <th>secondary_business</th>\n",
              "      <th>type_of_house</th>\n",
              "      <th>loan_purpose</th>\n",
              "    </tr>\n",
              "  </thead>\n",
              "  <tbody>\n",
              "    <tr>\n",
              "      <th>0</th>\n",
              "      <td>22</td>\n",
              "      <td>36000.0</td>\n",
              "      <td>5000.0</td>\n",
              "      <td>0</td>\n",
              "      <td>2</td>\n",
              "      <td>1.0</td>\n",
              "      <td>4</td>\n",
              "      <td>70.0</td>\n",
              "      <td>1.0</td>\n",
              "      <td>0.5</td>\n",
              "      <td>12</td>\n",
              "      <td>12</td>\n",
              "      <td>5000.0</td>\n",
              "      <td>0</td>\n",
              "      <td>0</td>\n",
              "      <td>0</td>\n",
              "      <td>0</td>\n",
              "      <td>0</td>\n",
              "      <td>0</td>\n",
              "      <td>0</td>\n",
              "    </tr>\n",
              "    <tr>\n",
              "      <th>1</th>\n",
              "      <td>21</td>\n",
              "      <td>94000.0</td>\n",
              "      <td>3600.0</td>\n",
              "      <td>1</td>\n",
              "      <td>1</td>\n",
              "      <td>1.0</td>\n",
              "      <td>4</td>\n",
              "      <td>80.0</td>\n",
              "      <td>1.0</td>\n",
              "      <td>0.5</td>\n",
              "      <td>12</td>\n",
              "      <td>50</td>\n",
              "      <td>7500.0</td>\n",
              "      <td>1</td>\n",
              "      <td>0</td>\n",
              "      <td>1</td>\n",
              "      <td>0</td>\n",
              "      <td>1</td>\n",
              "      <td>1</td>\n",
              "      <td>0</td>\n",
              "    </tr>\n",
              "    <tr>\n",
              "      <th>2</th>\n",
              "      <td>24</td>\n",
              "      <td>48000.0</td>\n",
              "      <td>4000.0</td>\n",
              "      <td>0</td>\n",
              "      <td>2</td>\n",
              "      <td>1.0</td>\n",
              "      <td>4</td>\n",
              "      <td>50.0</td>\n",
              "      <td>1.0</td>\n",
              "      <td>0.5</td>\n",
              "      <td>12</td>\n",
              "      <td>12</td>\n",
              "      <td>5000.0</td>\n",
              "      <td>0</td>\n",
              "      <td>1</td>\n",
              "      <td>2</td>\n",
              "      <td>1</td>\n",
              "      <td>0</td>\n",
              "      <td>1</td>\n",
              "      <td>1</td>\n",
              "    </tr>\n",
              "    <tr>\n",
              "      <th>4</th>\n",
              "      <td>23</td>\n",
              "      <td>36000.0</td>\n",
              "      <td>3500.0</td>\n",
              "      <td>0</td>\n",
              "      <td>0</td>\n",
              "      <td>1.0</td>\n",
              "      <td>1</td>\n",
              "      <td>112.0</td>\n",
              "      <td>1.0</td>\n",
              "      <td>0.5</td>\n",
              "      <td>12</td>\n",
              "      <td>12</td>\n",
              "      <td>5000.0</td>\n",
              "      <td>2</td>\n",
              "      <td>0</td>\n",
              "      <td>1</td>\n",
              "      <td>2</td>\n",
              "      <td>2</td>\n",
              "      <td>1</td>\n",
              "      <td>2</td>\n",
              "    </tr>\n",
              "    <tr>\n",
              "      <th>5</th>\n",
              "      <td>23</td>\n",
              "      <td>36000.0</td>\n",
              "      <td>3500.0</td>\n",
              "      <td>0</td>\n",
              "      <td>0</td>\n",
              "      <td>1.0</td>\n",
              "      <td>1</td>\n",
              "      <td>112.0</td>\n",
              "      <td>1.0</td>\n",
              "      <td>0.5</td>\n",
              "      <td>12</td>\n",
              "      <td>12</td>\n",
              "      <td>5000.0</td>\n",
              "      <td>2</td>\n",
              "      <td>0</td>\n",
              "      <td>1</td>\n",
              "      <td>2</td>\n",
              "      <td>1</td>\n",
              "      <td>1</td>\n",
              "      <td>2</td>\n",
              "    </tr>\n",
              "  </tbody>\n",
              "</table>\n",
              "</div>"
            ],
            "text/plain": [
              "   age  annual_income  ...  type_of_house  loan_purpose\n",
              "0   22        36000.0  ...              0             0\n",
              "1   21        94000.0  ...              1             0\n",
              "2   24        48000.0  ...              1             1\n",
              "4   23        36000.0  ...              1             2\n",
              "5   23        36000.0  ...              1             2\n",
              "\n",
              "[5 rows x 20 columns]"
            ]
          },
          "metadata": {
            "tags": []
          },
          "execution_count": 218
        }
      ]
    },
    {
      "cell_type": "markdown",
      "metadata": {
        "id": "0FeRmtpK3UEb"
      },
      "source": [
        "### Explore important features"
      ]
    },
    {
      "cell_type": "code",
      "metadata": {
        "id": "lfbRAd1vskdx",
        "outputId": "5e81f601-e7ca-430a-f763-4e72c6460e44",
        "colab": {
          "base_uri": "https://localhost:8080/",
          "height": 691
        }
      },
      "source": [
        "xgb = XGBRegressor(max_depth = 10, random_state = 42)\n",
        "xgb.fit(df_final_1.loc[:, df_final_1.columns != 'loan_amount'], df_final_1.loan_amount)\n",
        "fig, ax = plt.subplots(1, 1, figsize=(10, 10))\n",
        "impplot = plot_importance(xgb, ax = ax)\n",
        "plt.show()"
      ],
      "execution_count": 219,
      "outputs": [
        {
          "output_type": "stream",
          "text": [
            "[16:39:36] WARNING: /workspace/src/objective/regression_obj.cu:152: reg:linear is now deprecated in favor of reg:squarederror.\n"
          ],
          "name": "stdout"
        },
        {
          "output_type": "display_data",
          "data": {
            "image/png": "[encoded data removed]",
            "text/plain": [
              "<Figure size 720x720 with 1 Axes>"
            ]
          },
          "metadata": {
            "tags": []
          }
        }
      ]
    },
    {
      "cell_type": "markdown",
      "metadata": {
        "id": "6EaRUWHN4QRO"
      },
      "source": [
        "### Check if any missing value remaining in numerical data"
      ]
    },
    {
      "cell_type": "code",
      "metadata": {
        "id": "Aj4MxRuHBQdd"
      },
      "source": [
        "total = df_final_1.isnull().sum().sort_values(ascending=False)\n",
        "percent = (df_final_1.isnull().sum()/df_final_1.isnull().count()).sort_values(ascending=False)\n",
        "missing_data = pd.concat([total, percent], axis=1, keys=['Total', 'Percent'])"
      ],
      "execution_count": 220,
      "outputs": []
    },
    {
      "cell_type": "code",
      "metadata": {
        "id": "gpremXlM4hZC",
        "outputId": "7e06460f-1b61-4bca-8079-4294837f9aa1",
        "colab": {
          "base_uri": "https://localhost:8080/",
          "height": 622
        }
      },
      "source": [
        "missing_data"
      ],
      "execution_count": 221,
      "outputs": [
        {
          "output_type": "execute_result",
          "data": {
            "text/html": [
              "<div>\n",
              "<style scoped>\n",
              "    .dataframe tbody tr th:only-of-type {\n",
              "        vertical-align: middle;\n",
              "    }\n",
              "\n",
              "    .dataframe tbody tr th {\n",
              "        vertical-align: top;\n",
              "    }\n",
              "\n",
              "    .dataframe thead th {\n",
              "        text-align: right;\n",
              "    }\n",
              "</style>\n",
              "<table border=\"1\" class=\"dataframe\">\n",
              "  <thead>\n",
              "    <tr style=\"text-align: right;\">\n",
              "      <th></th>\n",
              "      <th>Total</th>\n",
              "      <th>Percent</th>\n",
              "    </tr>\n",
              "  </thead>\n",
              "  <tbody>\n",
              "    <tr>\n",
              "      <th>loan_purpose</th>\n",
              "      <td>0</td>\n",
              "      <td>0.0</td>\n",
              "    </tr>\n",
              "    <tr>\n",
              "      <th>type_of_house</th>\n",
              "      <td>0</td>\n",
              "      <td>0.0</td>\n",
              "    </tr>\n",
              "    <tr>\n",
              "      <th>annual_income</th>\n",
              "      <td>0</td>\n",
              "      <td>0.0</td>\n",
              "    </tr>\n",
              "    <tr>\n",
              "      <th>monthly_expenses</th>\n",
              "      <td>0</td>\n",
              "      <td>0.0</td>\n",
              "    </tr>\n",
              "    <tr>\n",
              "      <th>old_dependents</th>\n",
              "      <td>0</td>\n",
              "      <td>0.0</td>\n",
              "    </tr>\n",
              "    <tr>\n",
              "      <th>young_dependents</th>\n",
              "      <td>0</td>\n",
              "      <td>0.0</td>\n",
              "    </tr>\n",
              "    <tr>\n",
              "      <th>home_ownership</th>\n",
              "      <td>0</td>\n",
              "      <td>0.0</td>\n",
              "    </tr>\n",
              "    <tr>\n",
              "      <th>occupants_count</th>\n",
              "      <td>0</td>\n",
              "      <td>0.0</td>\n",
              "    </tr>\n",
              "    <tr>\n",
              "      <th>house_area</th>\n",
              "      <td>0</td>\n",
              "      <td>0.0</td>\n",
              "    </tr>\n",
              "    <tr>\n",
              "      <th>sanitary_availability</th>\n",
              "      <td>0</td>\n",
              "      <td>0.0</td>\n",
              "    </tr>\n",
              "    <tr>\n",
              "      <th>water_availabity</th>\n",
              "      <td>0</td>\n",
              "      <td>0.0</td>\n",
              "    </tr>\n",
              "    <tr>\n",
              "      <th>loan_tenure</th>\n",
              "      <td>0</td>\n",
              "      <td>0.0</td>\n",
              "    </tr>\n",
              "    <tr>\n",
              "      <th>loan_installments</th>\n",
              "      <td>0</td>\n",
              "      <td>0.0</td>\n",
              "    </tr>\n",
              "    <tr>\n",
              "      <th>loan_amount</th>\n",
              "      <td>0</td>\n",
              "      <td>0.0</td>\n",
              "    </tr>\n",
              "    <tr>\n",
              "      <th>city</th>\n",
              "      <td>0</td>\n",
              "      <td>0.0</td>\n",
              "    </tr>\n",
              "    <tr>\n",
              "      <th>sex</th>\n",
              "      <td>0</td>\n",
              "      <td>0.0</td>\n",
              "    </tr>\n",
              "    <tr>\n",
              "      <th>social_class</th>\n",
              "      <td>0</td>\n",
              "      <td>0.0</td>\n",
              "    </tr>\n",
              "    <tr>\n",
              "      <th>primary_business</th>\n",
              "      <td>0</td>\n",
              "      <td>0.0</td>\n",
              "    </tr>\n",
              "    <tr>\n",
              "      <th>secondary_business</th>\n",
              "      <td>0</td>\n",
              "      <td>0.0</td>\n",
              "    </tr>\n",
              "    <tr>\n",
              "      <th>age</th>\n",
              "      <td>0</td>\n",
              "      <td>0.0</td>\n",
              "    </tr>\n",
              "  </tbody>\n",
              "</table>\n",
              "</div>"
            ],
            "text/plain": [
              "                       Total  Percent\n",
              "loan_purpose               0      0.0\n",
              "type_of_house              0      0.0\n",
              "annual_income              0      0.0\n",
              "monthly_expenses           0      0.0\n",
              "old_dependents             0      0.0\n",
              "young_dependents           0      0.0\n",
              "home_ownership             0      0.0\n",
              "occupants_count            0      0.0\n",
              "house_area                 0      0.0\n",
              "sanitary_availability      0      0.0\n",
              "water_availabity           0      0.0\n",
              "loan_tenure                0      0.0\n",
              "loan_installments          0      0.0\n",
              "loan_amount                0      0.0\n",
              "city                       0      0.0\n",
              "sex                        0      0.0\n",
              "social_class               0      0.0\n",
              "primary_business           0      0.0\n",
              "secondary_business         0      0.0\n",
              "age                        0      0.0"
            ]
          },
          "metadata": {
            "tags": []
          },
          "execution_count": 221
        }
      ]
    },
    {
      "cell_type": "markdown",
      "metadata": {
        "id": "70PLvN9ql7yW"
      },
      "source": [
        "### **2.** Replace Missing data with 0"
      ]
    },
    {
      "cell_type": "code",
      "metadata": {
        "id": "7ByUWyEgnZil"
      },
      "source": [
        "df_final_2 = final_df.copy()"
      ],
      "execution_count": 226,
      "outputs": []
    },
    {
      "cell_type": "code",
      "metadata": {
        "id": "GBfrtmqTl5AL"
      },
      "source": [
        "for column in categorical_list:\n",
        "  df_final_2[column] = df_final_2[column].fillna(0)"
      ],
      "execution_count": 227,
      "outputs": []
    },
    {
      "cell_type": "code",
      "metadata": {
        "id": "F05z_5Sln2h-",
        "outputId": "e873ed2f-6a46-4311-80e1-1f9f46b08589",
        "colab": {
          "base_uri": "https://localhost:8080/",
          "height": 131
        }
      },
      "source": [
        "for column in categorical_list:\n",
        "  print(column)\n",
        "  label_list = df_final_2[column].unique()\n",
        "  label_value = [i for i in range(len(label_list))]\n",
        "  dict_label = dict(zip(label_list, label_value))\n",
        "  mapped_column = map_label(df_final_2[column], dict_label)\n",
        "  df_final_2.drop(column, axis = 1, inplace = True)\n",
        "  df_final_2[column] = mapped_column"
      ],
      "execution_count": 228,
      "outputs": [
        {
          "output_type": "stream",
          "text": [
            "city\n",
            "sex\n",
            "social_class\n",
            "primary_business\n",
            "secondary_business\n",
            "type_of_house\n",
            "loan_purpose\n"
          ],
          "name": "stdout"
        }
      ]
    },
    {
      "cell_type": "code",
      "metadata": {
        "id": "WBxGkQuqoFke",
        "outputId": "80d7e9c7-5396-47d4-e84f-0e8ac6190fe3",
        "colab": {
          "base_uri": "https://localhost:8080/",
          "height": 211
        }
      },
      "source": [
        "df_final_2.head()"
      ],
      "execution_count": 229,
      "outputs": [
        {
          "output_type": "execute_result",
          "data": {
            "text/html": [
              "<div>\n",
              "<style scoped>\n",
              "    .dataframe tbody tr th:only-of-type {\n",
              "        vertical-align: middle;\n",
              "    }\n",
              "\n",
              "    .dataframe tbody tr th {\n",
              "        vertical-align: top;\n",
              "    }\n",
              "\n",
              "    .dataframe thead th {\n",
              "        text-align: right;\n",
              "    }\n",
              "</style>\n",
              "<table border=\"1\" class=\"dataframe\">\n",
              "  <thead>\n",
              "    <tr style=\"text-align: right;\">\n",
              "      <th></th>\n",
              "      <th>age</th>\n",
              "      <th>annual_income</th>\n",
              "      <th>monthly_expenses</th>\n",
              "      <th>old_dependents</th>\n",
              "      <th>young_dependents</th>\n",
              "      <th>home_ownership</th>\n",
              "      <th>occupants_count</th>\n",
              "      <th>house_area</th>\n",
              "      <th>sanitary_availability</th>\n",
              "      <th>water_availabity</th>\n",
              "      <th>loan_tenure</th>\n",
              "      <th>loan_installments</th>\n",
              "      <th>loan_amount</th>\n",
              "      <th>city</th>\n",
              "      <th>sex</th>\n",
              "      <th>social_class</th>\n",
              "      <th>primary_business</th>\n",
              "      <th>secondary_business</th>\n",
              "      <th>type_of_house</th>\n",
              "      <th>loan_purpose</th>\n",
              "    </tr>\n",
              "  </thead>\n",
              "  <tbody>\n",
              "    <tr>\n",
              "      <th>0</th>\n",
              "      <td>22</td>\n",
              "      <td>36000.0</td>\n",
              "      <td>5000.0</td>\n",
              "      <td>0</td>\n",
              "      <td>2</td>\n",
              "      <td>1.0</td>\n",
              "      <td>4</td>\n",
              "      <td>70.0</td>\n",
              "      <td>1.0</td>\n",
              "      <td>0.5</td>\n",
              "      <td>12</td>\n",
              "      <td>12</td>\n",
              "      <td>5000.0</td>\n",
              "      <td>0</td>\n",
              "      <td>0</td>\n",
              "      <td>0</td>\n",
              "      <td>0</td>\n",
              "      <td>0</td>\n",
              "      <td>0</td>\n",
              "      <td>0</td>\n",
              "    </tr>\n",
              "    <tr>\n",
              "      <th>1</th>\n",
              "      <td>21</td>\n",
              "      <td>94000.0</td>\n",
              "      <td>3600.0</td>\n",
              "      <td>1</td>\n",
              "      <td>1</td>\n",
              "      <td>1.0</td>\n",
              "      <td>4</td>\n",
              "      <td>80.0</td>\n",
              "      <td>1.0</td>\n",
              "      <td>0.5</td>\n",
              "      <td>12</td>\n",
              "      <td>50</td>\n",
              "      <td>7500.0</td>\n",
              "      <td>1</td>\n",
              "      <td>0</td>\n",
              "      <td>1</td>\n",
              "      <td>0</td>\n",
              "      <td>1</td>\n",
              "      <td>1</td>\n",
              "      <td>0</td>\n",
              "    </tr>\n",
              "    <tr>\n",
              "      <th>2</th>\n",
              "      <td>24</td>\n",
              "      <td>48000.0</td>\n",
              "      <td>4000.0</td>\n",
              "      <td>0</td>\n",
              "      <td>2</td>\n",
              "      <td>1.0</td>\n",
              "      <td>4</td>\n",
              "      <td>50.0</td>\n",
              "      <td>1.0</td>\n",
              "      <td>0.5</td>\n",
              "      <td>12</td>\n",
              "      <td>12</td>\n",
              "      <td>5000.0</td>\n",
              "      <td>0</td>\n",
              "      <td>1</td>\n",
              "      <td>2</td>\n",
              "      <td>1</td>\n",
              "      <td>0</td>\n",
              "      <td>1</td>\n",
              "      <td>1</td>\n",
              "    </tr>\n",
              "    <tr>\n",
              "      <th>3</th>\n",
              "      <td>26</td>\n",
              "      <td>7000.0</td>\n",
              "      <td>5000.0</td>\n",
              "      <td>0</td>\n",
              "      <td>2</td>\n",
              "      <td>1.0</td>\n",
              "      <td>5</td>\n",
              "      <td>50.0</td>\n",
              "      <td>1.0</td>\n",
              "      <td>0.5</td>\n",
              "      <td>12</td>\n",
              "      <td>50</td>\n",
              "      <td>7500.0</td>\n",
              "      <td>2</td>\n",
              "      <td>0</td>\n",
              "      <td>1</td>\n",
              "      <td>0</td>\n",
              "      <td>1</td>\n",
              "      <td>1</td>\n",
              "      <td>0</td>\n",
              "    </tr>\n",
              "    <tr>\n",
              "      <th>4</th>\n",
              "      <td>23</td>\n",
              "      <td>36000.0</td>\n",
              "      <td>3500.0</td>\n",
              "      <td>0</td>\n",
              "      <td>0</td>\n",
              "      <td>1.0</td>\n",
              "      <td>1</td>\n",
              "      <td>112.0</td>\n",
              "      <td>1.0</td>\n",
              "      <td>0.5</td>\n",
              "      <td>12</td>\n",
              "      <td>12</td>\n",
              "      <td>5000.0</td>\n",
              "      <td>3</td>\n",
              "      <td>0</td>\n",
              "      <td>1</td>\n",
              "      <td>2</td>\n",
              "      <td>2</td>\n",
              "      <td>1</td>\n",
              "      <td>2</td>\n",
              "    </tr>\n",
              "  </tbody>\n",
              "</table>\n",
              "</div>"
            ],
            "text/plain": [
              "   age  annual_income  ...  type_of_house  loan_purpose\n",
              "0   22        36000.0  ...              0             0\n",
              "1   21        94000.0  ...              1             0\n",
              "2   24        48000.0  ...              1             1\n",
              "3   26         7000.0  ...              1             0\n",
              "4   23        36000.0  ...              1             2\n",
              "\n",
              "[5 rows x 20 columns]"
            ]
          },
          "metadata": {
            "tags": []
          },
          "execution_count": 229
        }
      ]
    },
    {
      "cell_type": "code",
      "metadata": {
        "id": "29GhuOsJoAss",
        "outputId": "5ae8d96f-01ff-4d96-b648-dc2c83483cb5",
        "colab": {
          "base_uri": "https://localhost:8080/",
          "height": 691
        }
      },
      "source": [
        "xgb = XGBRegressor(max_depth = 10, random_state = 42)\n",
        "xgb.fit(df_final_2.loc[:, df_final_2.columns != 'loan_amount'], df_final_2.loan_amount)\n",
        "fig, ax = plt.subplots(1, 1, figsize=(10, 10))\n",
        "impplot = plot_importance(xgb, ax = ax)\n",
        "plt.show()"
      ],
      "execution_count": 230,
      "outputs": [
        {
          "output_type": "stream",
          "text": [
            "[16:40:51] WARNING: /workspace/src/objective/regression_obj.cu:152: reg:linear is now deprecated in favor of reg:squarederror.\n"
          ],
          "name": "stdout"
        },
        {
          "output_type": "display_data",
          "data": {
            "image/png": "[encoded data removed]",
            "text/plain": [
              "<Figure size 720x720 with 1 Axes>"
            ]
          },
          "metadata": {
            "tags": []
          }
        }
      ]
    },
    {
      "cell_type": "code",
      "metadata": {
        "id": "MecWacbnoaNb"
      },
      "source": [
        "total = df_final_2.isnull().sum().sort_values(ascending=False)\n",
        "percent = (df_final_2.isnull().sum()/df_final_2.isnull().count()).sort_values(ascending=False)\n",
        "missing_data = pd.concat([total, percent], axis=1, keys=['Total', 'Percent'])"
      ],
      "execution_count": 231,
      "outputs": []
    },
    {
      "cell_type": "code",
      "metadata": {
        "id": "d4QN7Wa6odym",
        "outputId": "43bad71d-72aa-4fa2-c5a5-483867354e0c",
        "colab": {
          "base_uri": "https://localhost:8080/",
          "height": 622
        }
      },
      "source": [
        "missing_data"
      ],
      "execution_count": 232,
      "outputs": [
        {
          "output_type": "execute_result",
          "data": {
            "text/html": [
              "<div>\n",
              "<style scoped>\n",
              "    .dataframe tbody tr th:only-of-type {\n",
              "        vertical-align: middle;\n",
              "    }\n",
              "\n",
              "    .dataframe tbody tr th {\n",
              "        vertical-align: top;\n",
              "    }\n",
              "\n",
              "    .dataframe thead th {\n",
              "        text-align: right;\n",
              "    }\n",
              "</style>\n",
              "<table border=\"1\" class=\"dataframe\">\n",
              "  <thead>\n",
              "    <tr style=\"text-align: right;\">\n",
              "      <th></th>\n",
              "      <th>Total</th>\n",
              "      <th>Percent</th>\n",
              "    </tr>\n",
              "  </thead>\n",
              "  <tbody>\n",
              "    <tr>\n",
              "      <th>water_availabity</th>\n",
              "      <td>5253</td>\n",
              "      <td>0.131325</td>\n",
              "    </tr>\n",
              "    <tr>\n",
              "      <th>home_ownership</th>\n",
              "      <td>379</td>\n",
              "      <td>0.009475</td>\n",
              "    </tr>\n",
              "    <tr>\n",
              "      <th>sanitary_availability</th>\n",
              "      <td>208</td>\n",
              "      <td>0.005200</td>\n",
              "    </tr>\n",
              "    <tr>\n",
              "      <th>monthly_expenses</th>\n",
              "      <td>120</td>\n",
              "      <td>0.003000</td>\n",
              "    </tr>\n",
              "    <tr>\n",
              "      <th>type_of_house</th>\n",
              "      <td>0</td>\n",
              "      <td>0.000000</td>\n",
              "    </tr>\n",
              "    <tr>\n",
              "      <th>annual_income</th>\n",
              "      <td>0</td>\n",
              "      <td>0.000000</td>\n",
              "    </tr>\n",
              "    <tr>\n",
              "      <th>old_dependents</th>\n",
              "      <td>0</td>\n",
              "      <td>0.000000</td>\n",
              "    </tr>\n",
              "    <tr>\n",
              "      <th>young_dependents</th>\n",
              "      <td>0</td>\n",
              "      <td>0.000000</td>\n",
              "    </tr>\n",
              "    <tr>\n",
              "      <th>occupants_count</th>\n",
              "      <td>0</td>\n",
              "      <td>0.000000</td>\n",
              "    </tr>\n",
              "    <tr>\n",
              "      <th>house_area</th>\n",
              "      <td>0</td>\n",
              "      <td>0.000000</td>\n",
              "    </tr>\n",
              "    <tr>\n",
              "      <th>loan_purpose</th>\n",
              "      <td>0</td>\n",
              "      <td>0.000000</td>\n",
              "    </tr>\n",
              "    <tr>\n",
              "      <th>loan_tenure</th>\n",
              "      <td>0</td>\n",
              "      <td>0.000000</td>\n",
              "    </tr>\n",
              "    <tr>\n",
              "      <th>loan_installments</th>\n",
              "      <td>0</td>\n",
              "      <td>0.000000</td>\n",
              "    </tr>\n",
              "    <tr>\n",
              "      <th>loan_amount</th>\n",
              "      <td>0</td>\n",
              "      <td>0.000000</td>\n",
              "    </tr>\n",
              "    <tr>\n",
              "      <th>city</th>\n",
              "      <td>0</td>\n",
              "      <td>0.000000</td>\n",
              "    </tr>\n",
              "    <tr>\n",
              "      <th>sex</th>\n",
              "      <td>0</td>\n",
              "      <td>0.000000</td>\n",
              "    </tr>\n",
              "    <tr>\n",
              "      <th>social_class</th>\n",
              "      <td>0</td>\n",
              "      <td>0.000000</td>\n",
              "    </tr>\n",
              "    <tr>\n",
              "      <th>primary_business</th>\n",
              "      <td>0</td>\n",
              "      <td>0.000000</td>\n",
              "    </tr>\n",
              "    <tr>\n",
              "      <th>secondary_business</th>\n",
              "      <td>0</td>\n",
              "      <td>0.000000</td>\n",
              "    </tr>\n",
              "    <tr>\n",
              "      <th>age</th>\n",
              "      <td>0</td>\n",
              "      <td>0.000000</td>\n",
              "    </tr>\n",
              "  </tbody>\n",
              "</table>\n",
              "</div>"
            ],
            "text/plain": [
              "                       Total   Percent\n",
              "water_availabity        5253  0.131325\n",
              "home_ownership           379  0.009475\n",
              "sanitary_availability    208  0.005200\n",
              "monthly_expenses         120  0.003000\n",
              "type_of_house              0  0.000000\n",
              "annual_income              0  0.000000\n",
              "old_dependents             0  0.000000\n",
              "young_dependents           0  0.000000\n",
              "occupants_count            0  0.000000\n",
              "house_area                 0  0.000000\n",
              "loan_purpose               0  0.000000\n",
              "loan_tenure                0  0.000000\n",
              "loan_installments          0  0.000000\n",
              "loan_amount                0  0.000000\n",
              "city                       0  0.000000\n",
              "sex                        0  0.000000\n",
              "social_class               0  0.000000\n",
              "primary_business           0  0.000000\n",
              "secondary_business         0  0.000000\n",
              "age                        0  0.000000"
            ]
          },
          "metadata": {
            "tags": []
          },
          "execution_count": 232
        }
      ]
    },
    {
      "cell_type": "markdown",
      "metadata": {
        "id": "faNnPm2cosMp"
      },
      "source": [
        "#### From tha above analysis, we can say that out of 4 features - water_availabity, home_ownership, sanitary_availability, monthly_expenses; whoch have missing values, only 1 variable has high importance, i.e., monthly expenses. \n",
        "\n",
        "#### To handle missing value, for monthly expenses, let's replace it with linear interpolation and for other 3 replace it with 0."
      ]
    },
    {
      "cell_type": "code",
      "metadata": {
        "id": "sYMFhlxLpyfP"
      },
      "source": [
        "df_final_2['water_availabity'] = df_final_2['water_availabity'].fillna(0)\n",
        "df_final_2['home_ownership'] = df_final_2['home_ownership'].fillna(0)\n",
        "df_final_2['sanitary_availability'] = df_final_2['sanitary_availability'].fillna(0)\n",
        "\n",
        "df_final_2['monthly_expenses'] = df_final_2['monthly_expenses'].interpolate(method='linear', limit_direction='forward', axis=0)"
      ],
      "execution_count": 233,
      "outputs": []
    },
    {
      "cell_type": "code",
      "metadata": {
        "id": "zpCvFOcSqh6v",
        "outputId": "24e73205-9101-4bcd-f774-f5f8781db76d",
        "colab": {
          "base_uri": "https://localhost:8080/",
          "height": 33
        }
      },
      "source": [
        "df_final_2.isnull().values.any()"
      ],
      "execution_count": 234,
      "outputs": [
        {
          "output_type": "execute_result",
          "data": {
            "text/plain": [
              "False"
            ]
          },
          "metadata": {
            "tags": []
          },
          "execution_count": 234
        }
      ]
    },
    {
      "cell_type": "markdown",
      "metadata": {
        "id": "jrb77JbfPWPl"
      },
      "source": [
        "### Divide data into training, testing for Method - 1\n"
      ]
    },
    {
      "cell_type": "code",
      "metadata": {
        "id": "mv0h64GQBMyw"
      },
      "source": [
        "loan_amount_1 = df_final_1['loan_amount'].tolist()"
      ],
      "execution_count": 222,
      "outputs": []
    },
    {
      "cell_type": "code",
      "metadata": {
        "id": "-_ELJYa8ejOI",
        "outputId": "d0e4161f-c854-47bc-c6c6-66deab33cfee",
        "colab": {
          "base_uri": "https://localhost:8080/",
          "height": 98
        }
      },
      "source": [
        "df_final_1.drop('loan_amount', axis = 1, inplace = True)"
      ],
      "execution_count": 223,
      "outputs": [
        {
          "output_type": "stream",
          "text": [
            "/usr/local/lib/python3.6/dist-packages/pandas/core/frame.py:4169: SettingWithCopyWarning: \n",
            "A value is trying to be set on a copy of a slice from a DataFrame\n",
            "\n",
            "See the caveats in the documentation: https://pandas.pydata.org/pandas-docs/stable/user_guide/indexing.html#returning-a-view-versus-a-copy\n",
            "  errors=errors,\n"
          ],
          "name": "stderr"
        }
      ]
    },
    {
      "cell_type": "code",
      "metadata": {
        "id": "1yn1G2FAewsq"
      },
      "source": [
        "X_train_1, X_test_1, y_train_1, y_test_1 = train_test_split(df_final_1, loan_amount, test_size=0.20, random_state=42)"
      ],
      "execution_count": 224,
      "outputs": []
    },
    {
      "cell_type": "code",
      "metadata": {
        "id": "h_rU6qRde0yC",
        "outputId": "50a4917c-1583-4c1a-e0d0-c977e9783b43",
        "colab": {
          "base_uri": "https://localhost:8080/",
          "height": 33
        }
      },
      "source": [
        "X_train_1.shape, X_test_1.shape"
      ],
      "execution_count": 225,
      "outputs": [
        {
          "output_type": "execute_result",
          "data": {
            "text/plain": [
              "((26452, 19), (6613, 19))"
            ]
          },
          "metadata": {
            "tags": []
          },
          "execution_count": 225
        }
      ]
    },
    {
      "cell_type": "markdown",
      "metadata": {
        "id": "Mu4RG4Ddr2wt"
      },
      "source": [
        "### Divide data into training, testing for Method - 2\n"
      ]
    },
    {
      "cell_type": "code",
      "metadata": {
        "id": "u7WbqP8FrWhW"
      },
      "source": [
        "loan_amount_2 = df_final_2['loan_amount'].tolist()"
      ],
      "execution_count": 188,
      "outputs": []
    },
    {
      "cell_type": "code",
      "metadata": {
        "id": "ZtGsaUPsrYgv"
      },
      "source": [
        "df_final_2.drop('loan_amount', axis = 1, inplace = True)"
      ],
      "execution_count": 189,
      "outputs": []
    },
    {
      "cell_type": "code",
      "metadata": {
        "id": "O7eTCwZBraWN"
      },
      "source": [
        "X_train_2, X_test_2, y_train_2, y_test_2 = train_test_split(df_final_2, loan_amount_2, test_size=0.20, random_state=42)"
      ],
      "execution_count": 192,
      "outputs": []
    },
    {
      "cell_type": "code",
      "metadata": {
        "id": "USrGu2UYrb_b",
        "outputId": "9ac63a72-821e-4e1e-c1e0-b5a58652e049",
        "colab": {
          "base_uri": "https://localhost:8080/",
          "height": 33
        }
      },
      "source": [
        "X_train_2.shape, X_test_2.shape"
      ],
      "execution_count": 193,
      "outputs": [
        {
          "output_type": "execute_result",
          "data": {
            "text/plain": [
              "((32000, 19), (8000, 19))"
            ]
          },
          "metadata": {
            "tags": []
          },
          "execution_count": 193
        }
      ]
    },
    {
      "cell_type": "markdown",
      "metadata": {
        "id": "Z431kYoGPk5r"
      },
      "source": [
        "# **Modeling & Evaluation**"
      ]
    },
    {
      "cell_type": "markdown",
      "metadata": {
        "id": "v6rs8RIS4BrU"
      },
      "source": [
        "## Linear Regression method - 1"
      ]
    },
    {
      "cell_type": "code",
      "metadata": {
        "id": "vUl8Cwqf4aRN",
        "outputId": "e39baa33-06ec-4554-e572-82d2ab672780",
        "colab": {
          "base_uri": "https://localhost:8080/",
          "height": 115
        }
      },
      "source": [
        "lin_model_1 = LinearRegression().fit(X_train_1, y_train_1)\n",
        "# define the cross-validation procedure and train using Linear Regression\n",
        "cv = RepeatedStratifiedKFold(n_splits=10, n_repeats=3, random_state=1)\n",
        "scores = cross_val_score(lin_model_1, X_train_1, y_train_1, cv=cv, n_jobs=-1)"
      ],
      "execution_count": 238,
      "outputs": [
        {
          "output_type": "stream",
          "text": [
            "/usr/local/lib/python3.6/dist-packages/sklearn/model_selection/_split.py:667: UserWarning: The least populated class in y has only 1 members, which is less than n_splits=10.\n",
            "  % (min_groups, self.n_splits)), UserWarning)\n",
            "/usr/local/lib/python3.6/dist-packages/sklearn/model_selection/_split.py:667: UserWarning: The least populated class in y has only 1 members, which is less than n_splits=10.\n",
            "  % (min_groups, self.n_splits)), UserWarning)\n",
            "/usr/local/lib/python3.6/dist-packages/sklearn/model_selection/_split.py:667: UserWarning: The least populated class in y has only 1 members, which is less than n_splits=10.\n",
            "  % (min_groups, self.n_splits)), UserWarning)\n"
          ],
          "name": "stderr"
        }
      ]
    },
    {
      "cell_type": "code",
      "metadata": {
        "id": "B3AKmBQ3HCZZ",
        "outputId": "a27a66e8-b914-4165-8492-d3631f171e2e",
        "colab": {
          "base_uri": "https://localhost:8080/",
          "height": 66
        }
      },
      "source": [
        "# evaluate model\n",
        "lin_y_pred_1 = lin_model_1.predict(X_test_1)\n",
        "mse = mean_squared_error(y_test_1, lin_y_pred_1)\n",
        "print(\"MSE: %.2f\" % mse)\n",
        "print(\"RMSE: %.2f\" % (mse*(1/2.0)))\n",
        "print(\"PCC: %.3f\" % pearsonr(y_test_1, lin_y_pred_1)[0])"
      ],
      "execution_count": 239,
      "outputs": [
        {
          "output_type": "stream",
          "text": [
            "MSE: 216675950.65\n",
            "RMSE: 108337975.33\n",
            "PCC: 0.176\n"
          ],
          "name": "stdout"
        }
      ]
    },
    {
      "cell_type": "markdown",
      "metadata": {
        "id": "wmPIPsuusiVo"
      },
      "source": [
        "## Linear Regression method - 2"
      ]
    },
    {
      "cell_type": "code",
      "metadata": {
        "id": "lHjdYAvOuF6f",
        "outputId": "58208f9f-5f05-4e42-b258-fee01fcdaaa2",
        "colab": {
          "base_uri": "https://localhost:8080/",
          "height": 115
        }
      },
      "source": [
        "lin_model_2 = LinearRegression().fit(X_train_2, y_train_2)\n",
        "# define the cross-validation procedure and train using Linear Regression\n",
        "cv = RepeatedStratifiedKFold(n_splits=10, n_repeats=3, random_state=1)\n",
        "scores = cross_val_score(lin_model_2, X_train_2, y_train_2, cv=cv, n_jobs=-1)"
      ],
      "execution_count": 240,
      "outputs": [
        {
          "output_type": "stream",
          "text": [
            "/usr/local/lib/python3.6/dist-packages/sklearn/model_selection/_split.py:667: UserWarning: The least populated class in y has only 1 members, which is less than n_splits=10.\n",
            "  % (min_groups, self.n_splits)), UserWarning)\n",
            "/usr/local/lib/python3.6/dist-packages/sklearn/model_selection/_split.py:667: UserWarning: The least populated class in y has only 1 members, which is less than n_splits=10.\n",
            "  % (min_groups, self.n_splits)), UserWarning)\n",
            "/usr/local/lib/python3.6/dist-packages/sklearn/model_selection/_split.py:667: UserWarning: The least populated class in y has only 1 members, which is less than n_splits=10.\n",
            "  % (min_groups, self.n_splits)), UserWarning)\n"
          ],
          "name": "stderr"
        }
      ]
    },
    {
      "cell_type": "code",
      "metadata": {
        "id": "xTu8GI85uKRU",
        "outputId": "e4edb343-8836-426f-8a61-1871896e7469",
        "colab": {
          "base_uri": "https://localhost:8080/",
          "height": 66
        }
      },
      "source": [
        "# evaluate model\n",
        "lin_y_pred_2 = lin_model_2.predict(X_test_2)\n",
        "mse = mean_squared_error(y_test_2, lin_y_pred_2)\n",
        "print(\"MSE: %.2f\" % mse)\n",
        "print(\"RMSE: %.2f\" % (mse*(1/2.0)))\n",
        "print(\"PCC: %.3f\" % pearsonr(y_test_2, lin_y_pred_2)[0])"
      ],
      "execution_count": 241,
      "outputs": [
        {
          "output_type": "stream",
          "text": [
            "MSE: 221130801.94\n",
            "RMSE: 110565400.97\n",
            "PCC: 0.190\n"
          ],
          "name": "stdout"
        }
      ]
    },
    {
      "cell_type": "markdown",
      "metadata": {
        "id": "8SgqXy6uATko"
      },
      "source": [
        "#### Let's analyze why performance of Linear Regression is very less\n",
        "\n",
        "#### Check how the *loan_amount* is distributed - Let's focus on the target variable (*loan_amount*). Let's create a histogram of the target variable. (Note: As performance of both the methods are same, below analsis is done for only 1 method.)\n"
      ]
    },
    {
      "cell_type": "code",
      "metadata": {
        "id": "cxGbcU3YA6dU",
        "outputId": "e24eff1c-258c-42a8-bd96-9cb1bb1af281",
        "colab": {
          "base_uri": "https://localhost:8080/",
          "height": 585
        }
      },
      "source": [
        "plt.figure(figsize=(9, 8))\n",
        "sns.distplot(y_train_1, color='g', bins=100, hist_kws={'alpha': 0.4});"
      ],
      "execution_count": 242,
      "outputs": [
        {
          "output_type": "stream",
          "text": [
            "/usr/local/lib/python3.6/dist-packages/seaborn/distributions.py:2551: FutureWarning: `distplot` is a deprecated function and will be removed in a future version. Please adapt your code to use either `displot` (a figure-level function with similar flexibility) or `histplot` (an axes-level function for histograms).\n",
            "  warnings.warn(msg, FutureWarning)\n"
          ],
          "name": "stderr"
        },
        {
          "output_type": "display_data",
          "data": {
            "image/png": "[encoded data removed]",
            "text/plain": [
              "<Figure size 648x576 with 1 Axes>"
            ]
          },
          "metadata": {
            "tags": []
          }
        }
      ]
    },
    {
      "cell_type": "markdown",
      "metadata": {
        "id": "ZMPLvmZlCC5H"
      },
      "source": [
        "####  Target variable is not Normally distributed, it has some amount of skewness. If we want to create any linear model, it is essential that the features are normally distributed. This is one of the assumptions of multiple linear regression."
      ]
    },
    {
      "cell_type": "markdown",
      "metadata": {
        "id": "Jiv4TN0hHdew"
      },
      "source": [
        "#### Let's explore more about target variable - relationship between feature and target variable"
      ]
    },
    {
      "cell_type": "code",
      "metadata": {
        "id": "dNcL0ybNSdbZ"
      },
      "source": [
        "X_train_column = X_train_1.columns.tolist()"
      ],
      "execution_count": 243,
      "outputs": []
    },
    {
      "cell_type": "code",
      "metadata": {
        "id": "JqrjVhOwRzed",
        "outputId": "756303ed-322a-4edf-955a-9f1c127aac92",
        "colab": {
          "base_uri": "https://localhost:8080/",
          "height": 781
        }
      },
      "source": [
        "fig = plt.figure(figsize=(12, 12))\n",
        "\n",
        "fig.subplots_adjust(hspace=1.8, wspace=0.2)\n",
        "\n",
        "for i in range(1, 20):\n",
        "    ax = fig.add_subplot(4, 5, i)\n",
        "    col_name = X_train_column[i-1]\n",
        "    ax.plot(y_train, X_train_1[col_name])\n",
        "    ax.set_title(col_name, fontsize=12)"
      ],
      "execution_count": 244,
      "outputs": [
        {
          "output_type": "display_data",
          "data": {
            "image/png": "[encoded data removed]",
            "text/plain": [
              "<Figure size 864x864 with 19 Axes>"
            ]
          },
          "metadata": {
            "tags": []
          }
        }
      ]
    },
    {
      "cell_type": "markdown",
      "metadata": {
        "id": "EajmTZhpU3rc"
      },
      "source": [
        "#### From the above diagrams, we can conclude that our target variable shows an unequal level of variance across most predictor (independent) variables, which indicates linear regression model is not an efficient algorithm for this problem."
      ]
    },
    {
      "cell_type": "markdown",
      "metadata": {
        "id": "bvSteVr5U-tW"
      },
      "source": [
        "#### Let's explore quite complex algorithm"
      ]
    },
    {
      "cell_type": "markdown",
      "metadata": {
        "id": "PN2kjvGy5T8z"
      },
      "source": [
        "## RandomForest for method - 1"
      ]
    },
    {
      "cell_type": "code",
      "metadata": {
        "id": "IEhf_9g576F-",
        "outputId": "ec92d9c8-fbd3-418a-a4d7-a3b167ab6e47",
        "colab": {
          "base_uri": "https://localhost:8080/",
          "height": 131
        }
      },
      "source": [
        "ran_frst_model_1 = RandomForestRegressor(max_depth=5, random_state=0)\n",
        "ran_frst_model_1.fit(X_train_1, y_train_1)"
      ],
      "execution_count": 245,
      "outputs": [
        {
          "output_type": "execute_result",
          "data": {
            "text/plain": [
              "RandomForestRegressor(bootstrap=True, ccp_alpha=0.0, criterion='mse',\n",
              "                      max_depth=5, max_features='auto', max_leaf_nodes=None,\n",
              "                      max_samples=None, min_impurity_decrease=0.0,\n",
              "                      min_impurity_split=None, min_samples_leaf=1,\n",
              "                      min_samples_split=2, min_weight_fraction_leaf=0.0,\n",
              "                      n_estimators=100, n_jobs=None, oob_score=False,\n",
              "                      random_state=0, verbose=0, warm_start=False)"
            ]
          },
          "metadata": {
            "tags": []
          },
          "execution_count": 245
        }
      ]
    },
    {
      "cell_type": "code",
      "metadata": {
        "id": "244K03OLHSgO",
        "outputId": "2810006a-8938-40ea-f961-2da2cf9c531d",
        "colab": {
          "base_uri": "https://localhost:8080/",
          "height": 66
        }
      },
      "source": [
        "# evaluate model\n",
        "rand_y_pred_1 = ran_frst_model_1.predict(X_test_1)\n",
        "mse = mean_squared_error(y_test_1, rand_y_pred_1)\n",
        "print(\"MSE: %.2f\" % mse)\n",
        "print(\"RMSE: %.2f\" % (mse*(1/2.0)))\n",
        "print(\"PCC: %.3f\" % pearsonr(y_test, rand_y_pred)[0])"
      ],
      "execution_count": 248,
      "outputs": [
        {
          "output_type": "stream",
          "text": [
            "MSE: 107817910.41\n",
            "RMSE: 53908955.21\n",
            "PCC: 0.869\n"
          ],
          "name": "stdout"
        }
      ]
    },
    {
      "cell_type": "markdown",
      "metadata": {
        "id": "YRAxEd3WvnhE"
      },
      "source": [
        "## RandomForest for method - 2"
      ]
    },
    {
      "cell_type": "code",
      "metadata": {
        "id": "X0H3TcY8vYLU",
        "outputId": "ebffad2e-d4e3-43b4-dcef-528a5da2524a",
        "colab": {
          "base_uri": "https://localhost:8080/",
          "height": 131
        }
      },
      "source": [
        "ran_frst_model_2 = RandomForestRegressor(max_depth=5, random_state=0)\n",
        "ran_frst_model_2.fit(X_train_2, y_train_2)"
      ],
      "execution_count": 249,
      "outputs": [
        {
          "output_type": "execute_result",
          "data": {
            "text/plain": [
              "RandomForestRegressor(bootstrap=True, ccp_alpha=0.0, criterion='mse',\n",
              "                      max_depth=5, max_features='auto', max_leaf_nodes=None,\n",
              "                      max_samples=None, min_impurity_decrease=0.0,\n",
              "                      min_impurity_split=None, min_samples_leaf=1,\n",
              "                      min_samples_split=2, min_weight_fraction_leaf=0.0,\n",
              "                      n_estimators=100, n_jobs=None, oob_score=False,\n",
              "                      random_state=0, verbose=0, warm_start=False)"
            ]
          },
          "metadata": {
            "tags": []
          },
          "execution_count": 249
        }
      ]
    },
    {
      "cell_type": "code",
      "metadata": {
        "id": "nbZI4UolvcK5",
        "outputId": "3759bfcb-9bdd-4b04-8e54-bd18087a2ee5",
        "colab": {
          "base_uri": "https://localhost:8080/",
          "height": 66
        }
      },
      "source": [
        "# evaluate model\n",
        "rand_y_pred_2 = ran_frst_model_2.predict(X_test_2)\n",
        "mse = mean_squared_error(y_test_2, rand_y_pred_2)\n",
        "print(\"MSE: %.2f\" % mse)\n",
        "print(\"RMSE: %.2f\" % (mse*(1/2.0)))\n",
        "print(\"PCC: %.3f\" % pearsonr(y_test_2, rand_y_pred_2)[0])"
      ],
      "execution_count": 251,
      "outputs": [
        {
          "output_type": "stream",
          "text": [
            "MSE: 173246361.89\n",
            "RMSE: 86623180.95\n",
            "PCC: 0.527\n"
          ],
          "name": "stdout"
        }
      ]
    },
    {
      "cell_type": "markdown",
      "metadata": {
        "id": "Q8Ja1UFzv1Cc"
      },
      "source": [
        "### From the results of the above algorithm (i.e., RandomForest), we can conlcude that method - 1 is better than method - 2."
      ]
    },
    {
      "cell_type": "markdown",
      "metadata": {
        "id": "9C1wwAMY_iC3"
      },
      "source": [
        "## Ensemble Technique"
      ]
    },
    {
      "cell_type": "markdown",
      "metadata": {
        "id": "8uyTVCZT_Jfw"
      },
      "source": [
        "#### Let's use enesemble method to combine the Linear Regression and RandomForest for method - 1."
      ]
    },
    {
      "cell_type": "code",
      "metadata": {
        "id": "QNqt4dMs9v_2"
      },
      "source": [
        "finalpred = (lin_y_pred_1 + rand_y_pred_1) / 2"
      ],
      "execution_count": null,
      "outputs": []
    },
    {
      "cell_type": "code",
      "metadata": {
        "id": "klUOXPW_97OZ",
        "outputId": "a2e2540d-9fe5-44dc-bd01-cc76f35fa6fe",
        "colab": {
          "base_uri": "https://localhost:8080/",
          "height": 66
        }
      },
      "source": [
        "# evaluate model\n",
        "mse = mean_squared_error(y_test_1, finalpred)\n",
        "print(\"MSE: %.2f\" % mse)\n",
        "print(\"RMSE: %.2f\" % (mse*(1/2.0)))\n",
        "print(\"PCC: %.3f\" % pearsonr(y_test_1, finalpred)[0])"
      ],
      "execution_count": 252,
      "outputs": [
        {
          "output_type": "stream",
          "text": [
            "MSE: 154540668.85\n",
            "RMSE: 77270334.42\n",
            "PCC: 0.820\n"
          ],
          "name": "stdout"
        }
      ]
    },
    {
      "cell_type": "markdown",
      "metadata": {
        "id": "ApAubWgq_g_h"
      },
      "source": [
        "#### From the above result, we can conclude that because of poor performance of Linear Regression (here, it is weak classifier), in ensemble technique we did not get higher performance comapred to both the models.\n",
        "\n",
        "#### So, it is better to go for another strong algorithm compared to Ensemble technique. (Note: As we have seen method - 1 is working better comapred to method - 2, but it is always good to check new algorithm for both the methods. So, we are going to explore new algorithm for both the methods.)"
      ]
    },
    {
      "cell_type": "markdown",
      "metadata": {
        "id": "rSEfbHBZ7Pb9"
      },
      "source": [
        "## XGBoost for method - 1"
      ]
    },
    {
      "cell_type": "code",
      "metadata": {
        "id": "I4O0PUHz6PEy",
        "outputId": "1c959de4-8983-47e6-8662-94d2eabd4bc3",
        "colab": {
          "base_uri": "https://localhost:8080/",
          "height": 33
        }
      },
      "source": [
        "xgbr_model_1 = xgb.XGBRegressor(verbosity=0)\n",
        "\n",
        "XGBRegressor(base_score=0.5, booster='gbtree', colsample_bylevel=1,\n",
        "       colsample_bynode=1, colsample_bytree=1, gamma=0,\n",
        "       importance_type='gain', learning_rate=0.1, max_delta_step=0,\n",
        "       max_depth=3, min_child_weight=1, missing=None, n_estimators=100,\n",
        "       n_jobs=1, nthread=None, objective='reg:linear', random_state=0,\n",
        "       reg_alpha=0, reg_lambda=1, scale_pos_weight=1, seed=None,\n",
        "       silent=None, subsample=1, verbosity=1)\n",
        "\n",
        "xgbr_model_1.fit(X_train_1, y_train_1)\n",
        "\n",
        "kfold = KFold(n_splits=10, shuffle=True)\n",
        "kf_cv_scores = cross_val_score(xgbr_model_1, X_train_1, y_train_1, cv=kfold )\n",
        "print(\"K-fold CV average score: %.2f\" % kf_cv_scores.mean())"
      ],
      "execution_count": 255,
      "outputs": [
        {
          "output_type": "stream",
          "text": [
            "K-fold CV average score: 0.37\n"
          ],
          "name": "stdout"
        }
      ]
    },
    {
      "cell_type": "code",
      "metadata": {
        "id": "_gEQVrVQ7WG5",
        "outputId": "9fa6f680-3eae-48f0-84ce-4ccc5217af9c",
        "colab": {
          "base_uri": "https://localhost:8080/",
          "height": 66
        }
      },
      "source": [
        "# evaluate model\n",
        "xgbr_y_pred_1 = xgbr_model_1.predict(X_test_1)\n",
        "mse = mean_squared_error(y_test_1, xgbr_y_pred_1)\n",
        "print(\"MSE: %.2f\" % mse)\n",
        "print(\"RMSE: %.2f\" % (mse*(1/2.0)))\n",
        "print(\"PCC: %.3f\" % pearsonr(y_test_1, xgbr_y_pred_1)[0])"
      ],
      "execution_count": 259,
      "outputs": [
        {
          "output_type": "stream",
          "text": [
            "MSE: 72398991.89\n",
            "RMSE: 36199495.95\n",
            "PCC: 0.932\n"
          ],
          "name": "stdout"
        }
      ]
    },
    {
      "cell_type": "markdown",
      "metadata": {
        "id": "OOsA9RJ2y1_a"
      },
      "source": [
        "## XGBoost for method - 2"
      ]
    },
    {
      "cell_type": "code",
      "metadata": {
        "id": "x9ZCoYCtyOMA",
        "outputId": "8ba265dd-55c1-49e1-b146-153618513eca",
        "colab": {
          "base_uri": "https://localhost:8080/",
          "height": 33
        }
      },
      "source": [
        "xgbr_model_2 = xgb.XGBRegressor(verbosity=0)\n",
        "\n",
        "XGBRegressor(base_score=0.5, booster='gbtree', colsample_bylevel=1,\n",
        "       colsample_bynode=1, colsample_bytree=1, gamma=0,\n",
        "       importance_type='gain', learning_rate=0.1, max_delta_step=0,\n",
        "       max_depth=3, min_child_weight=1, missing=None, n_estimators=100,\n",
        "       n_jobs=1, nthread=None, objective='reg:linear', random_state=0,\n",
        "       reg_alpha=0, reg_lambda=1, scale_pos_weight=1, seed=None,\n",
        "       silent=None, subsample=1, verbosity=1)\n",
        "\n",
        "xgbr_model_2.fit(X_train_2, y_train_2)\n",
        "\n",
        "kfold = KFold(n_splits=10, shuffle=True)\n",
        "kf_cv_scores = cross_val_score(xgbr_model_2, X_train_2, y_train_2, cv=kfold )\n",
        "print(\"K-fold CV average score: %.2f\" % kf_cv_scores.mean())"
      ],
      "execution_count": 260,
      "outputs": [
        {
          "output_type": "stream",
          "text": [
            "K-fold CV average score: 0.49\n"
          ],
          "name": "stdout"
        }
      ]
    },
    {
      "cell_type": "code",
      "metadata": {
        "id": "2YBCDZ7jyeQr",
        "outputId": "63b62e15-ffe6-4d73-a1a4-732a30aa924b",
        "colab": {
          "base_uri": "https://localhost:8080/",
          "height": 66
        }
      },
      "source": [
        "# evaluate model\n",
        "xgbr_y_pred_2 = xgbr_model_2.predict(X_test_2)\n",
        "mse = mean_squared_error(y_test_2, xgbr_y_pred_2)\n",
        "print(\"MSE: %.2f\" % mse)\n",
        "print(\"RMSE: %.2f\" % (mse*(1/2.0)))\n",
        "print(\"PCC: %.3f\" % pearsonr(y_test_2, xgbr_y_pred_2)[0])"
      ],
      "execution_count": 261,
      "outputs": [
        {
          "output_type": "stream",
          "text": [
            "MSE: 281576684.97\n",
            "RMSE: 140788342.49\n",
            "PCC: 0.429\n"
          ],
          "name": "stdout"
        }
      ]
    },
    {
      "cell_type": "markdown",
      "metadata": {
        "id": "GK5swZPZytdI"
      },
      "source": [
        "#### From the above algorithm, we can conclude that data we have created using method - 1 is more efficient way compared to method - 2.\n",
        "\n",
        "#### Conclusion - As we have large amount of data, i.e., 40000, in which 6935 datapoints have missing value/NaN value; removng these data is better compare to replace it with any other value. Because sometimes it may happen that because of replaced value (which is not 100% true data) model can interpret data wrongly or replaced value may introduce outliers in data."
      ]
    },
    {
      "cell_type": "markdown",
      "metadata": {
        "id": "-dsOsallVWaj"
      },
      "source": [
        "#### Plot the original data and predicted data"
      ]
    },
    {
      "cell_type": "code",
      "metadata": {
        "id": "45fO6bWKGe-F",
        "outputId": "e361a944-09b9-4b1b-8912-f9007fca36b8",
        "colab": {
          "base_uri": "https://localhost:8080/",
          "height": 296
        }
      },
      "source": [
        "x_ax = range(len(y_test_1))\n",
        "plt.scatter(x_ax, y_test_1, s=10, color=\"blue\", label=\"original\")\n",
        "plt.plot(x_ax, xgbr_y_pred_1, lw=0.8, color=\"red\", label=\"predicted\")\n",
        "plt.legend()\n",
        "plt.show()"
      ],
      "execution_count": 262,
      "outputs": [
        {
          "output_type": "display_data",
          "data": {
            "image/png": "[encoded data removed]",
            "text/plain": [
              "<Figure size 432x288 with 1 Axes>"
            ]
          },
          "metadata": {
            "tags": []
          }
        }
      ]
    }
  ]
}